{
  "nbformat": 4,
  "nbformat_minor": 0,
  "metadata": {
    "colab": {
      "provenance": []
    },
    "kernelspec": {
      "name": "python3",
      "display_name": "Python 3"
    },
    "language_info": {
      "name": "python"
    }
  },
  "cells": [
    {
      "cell_type": "code",
      "execution_count": 9,
      "metadata": {
        "id": "YVo5sPkLwPv4"
      },
      "outputs": [],
      "source": [
        "#Taller 1 - David Báez y Andrés Ramirez \n",
        "\n",
        "#Librerias que se utilizarán para el desarrollo del taller \n",
        "import pandas as pd\n",
        "import numpy as np\n",
        "from scipy import stats\n",
        "import seaborn as sbn\n",
        "from matplotlib import pyplot as plt\n",
        "from numpy.ma.core import sqrt\n",
        "import warnings\n",
        "warnings.filterwarnings(\"ignore\")"
      ]
    },
    {
      "cell_type": "code",
      "source": [
        " !pip install --quiet pandas_datareader\n",
        " import pandas_datareader.data as pdr"
      ],
      "metadata": {
        "id": "J-tG_uyJ2EoM"
      },
      "execution_count": 127,
      "outputs": []
    },
    {
      "cell_type": "code",
      "source": [
        "!pip install --quiet yfinance\n",
        "import yfinance as yf"
      ],
      "metadata": {
        "id": "NF2PX6n53ODH"
      },
      "execution_count": 128,
      "outputs": []
    },
    {
      "cell_type": "code",
      "source": [
        "#1) Las acciones que tomaremos para el desarrollo del taller serán Tesla y Google.\n",
        "\n",
        "# Para ello creamos el vector de activos y posteriormente procedemos a descargar la información solicitada."
      ],
      "metadata": {
        "id": "7Jlj5H3-29HC"
      },
      "execution_count": null,
      "outputs": []
    },
    {
      "cell_type": "code",
      "source": [
        "#Hola profe, intenté por todos los medios instalar las librerias para traer el histórico de los datos y realizar el punto normal pero no me dejó, por lo que realicé el ejercicio como normalmente lo hemos realizado. Pido disculpas de antemano y dejo el código de como intenté hacer todo. \n",
        "\n",
        "#from pandas_datareader import yf.pdr_override()\n",
        "#start_date = \"2021-01-01\"\n",
        "#end_date = \"2022-12-31\"\n",
        "#tickers= ['TSLA', 'GOOG']\n",
        "#data = web.DataReader(name=tickers, data_source='yahoo', start=start_date, end=end_date)\n",
        "#data= pdr.get_data_yahoo(tickers,start=\"2021-01-01\",end=\"2022-12-31\",interval='d').dropna()\n",
        "#print(data)"
      ],
      "metadata": {
        "id": "su9vbbcN19Z9"
      },
      "execution_count": null,
      "outputs": []
    },
    {
      "cell_type": "code",
      "source": [
        "#Punto 1\n",
        "#1) Las acciones que tomaremos para el desarrollo del taller serán Tesla y Google.\n",
        "\n",
        "# Para ello creamos el vector de activos y posteriormente procedemos a descargar la información solicitada.\n",
        "activos = ['TSLA', 'GOOG']\n",
        "precios_d = yf.download(activos,start=\"2021-01-01\",end=\"2022-12-31\",interval='1d').dropna()\n",
        "precios_m = yf.download(activos,start=\"2021-01-01\",end=\"2022-12-31\",interval='1Mo').dropna()\n",
        "precios_adj = precios_d.loc[:,\"Adj Close\"]\n",
        "precios_adj_m = precios_m.loc[:,\"Adj Close\"]\n",
        "precios_adj\n"
      ],
      "metadata": {
        "id": "2KLeeliRx4HU",
        "colab": {
          "base_uri": "https://localhost:8080/",
          "height": 491
        },
        "outputId": "badf4249-3ef5-4a0a-fd19-6f65d0ce4a09"
      },
      "execution_count": 25,
      "outputs": [
        {
          "output_type": "stream",
          "name": "stdout",
          "text": [
            "[*********************100%***********************]  2 of 2 completed\n",
            "[*********************100%***********************]  2 of 2 completed\n"
          ]
        },
        {
          "output_type": "execute_result",
          "data": {
            "text/plain": [
              "                 GOOG        TSLA\n",
              "Date                             \n",
              "2021-01-04  86.412003  243.256668\n",
              "2021-01-05  87.045998  245.036667\n",
              "2021-01-06  86.764503  251.993332\n",
              "2021-01-07  89.362503  272.013336\n",
              "2021-01-08  90.360497  293.339996\n",
              "...               ...         ...\n",
              "2022-12-23  89.809998  123.150002\n",
              "2022-12-27  87.930000  109.099998\n",
              "2022-12-28  86.459999  112.709999\n",
              "2022-12-29  88.949997  121.820000\n",
              "2022-12-30  88.730003  123.180000\n",
              "\n",
              "[503 rows x 2 columns]"
            ],
            "text/html": [
              "\n",
              "  <div id=\"df-78071028-0c8f-48eb-ac7a-dec44b597ace\">\n",
              "    <div class=\"colab-df-container\">\n",
              "      <div>\n",
              "<style scoped>\n",
              "    .dataframe tbody tr th:only-of-type {\n",
              "        vertical-align: middle;\n",
              "    }\n",
              "\n",
              "    .dataframe tbody tr th {\n",
              "        vertical-align: top;\n",
              "    }\n",
              "\n",
              "    .dataframe thead th {\n",
              "        text-align: right;\n",
              "    }\n",
              "</style>\n",
              "<table border=\"1\" class=\"dataframe\">\n",
              "  <thead>\n",
              "    <tr style=\"text-align: right;\">\n",
              "      <th></th>\n",
              "      <th>GOOG</th>\n",
              "      <th>TSLA</th>\n",
              "    </tr>\n",
              "    <tr>\n",
              "      <th>Date</th>\n",
              "      <th></th>\n",
              "      <th></th>\n",
              "    </tr>\n",
              "  </thead>\n",
              "  <tbody>\n",
              "    <tr>\n",
              "      <th>2021-01-04</th>\n",
              "      <td>86.412003</td>\n",
              "      <td>243.256668</td>\n",
              "    </tr>\n",
              "    <tr>\n",
              "      <th>2021-01-05</th>\n",
              "      <td>87.045998</td>\n",
              "      <td>245.036667</td>\n",
              "    </tr>\n",
              "    <tr>\n",
              "      <th>2021-01-06</th>\n",
              "      <td>86.764503</td>\n",
              "      <td>251.993332</td>\n",
              "    </tr>\n",
              "    <tr>\n",
              "      <th>2021-01-07</th>\n",
              "      <td>89.362503</td>\n",
              "      <td>272.013336</td>\n",
              "    </tr>\n",
              "    <tr>\n",
              "      <th>2021-01-08</th>\n",
              "      <td>90.360497</td>\n",
              "      <td>293.339996</td>\n",
              "    </tr>\n",
              "    <tr>\n",
              "      <th>...</th>\n",
              "      <td>...</td>\n",
              "      <td>...</td>\n",
              "    </tr>\n",
              "    <tr>\n",
              "      <th>2022-12-23</th>\n",
              "      <td>89.809998</td>\n",
              "      <td>123.150002</td>\n",
              "    </tr>\n",
              "    <tr>\n",
              "      <th>2022-12-27</th>\n",
              "      <td>87.930000</td>\n",
              "      <td>109.099998</td>\n",
              "    </tr>\n",
              "    <tr>\n",
              "      <th>2022-12-28</th>\n",
              "      <td>86.459999</td>\n",
              "      <td>112.709999</td>\n",
              "    </tr>\n",
              "    <tr>\n",
              "      <th>2022-12-29</th>\n",
              "      <td>88.949997</td>\n",
              "      <td>121.820000</td>\n",
              "    </tr>\n",
              "    <tr>\n",
              "      <th>2022-12-30</th>\n",
              "      <td>88.730003</td>\n",
              "      <td>123.180000</td>\n",
              "    </tr>\n",
              "  </tbody>\n",
              "</table>\n",
              "<p>503 rows × 2 columns</p>\n",
              "</div>\n",
              "      <button class=\"colab-df-convert\" onclick=\"convertToInteractive('df-78071028-0c8f-48eb-ac7a-dec44b597ace')\"\n",
              "              title=\"Convert this dataframe to an interactive table.\"\n",
              "              style=\"display:none;\">\n",
              "        \n",
              "  <svg xmlns=\"http://www.w3.org/2000/svg\" height=\"24px\"viewBox=\"0 0 24 24\"\n",
              "       width=\"24px\">\n",
              "    <path d=\"M0 0h24v24H0V0z\" fill=\"none\"/>\n",
              "    <path d=\"M18.56 5.44l.94 2.06.94-2.06 2.06-.94-2.06-.94-.94-2.06-.94 2.06-2.06.94zm-11 1L8.5 8.5l.94-2.06 2.06-.94-2.06-.94L8.5 2.5l-.94 2.06-2.06.94zm10 10l.94 2.06.94-2.06 2.06-.94-2.06-.94-.94-2.06-.94 2.06-2.06.94z\"/><path d=\"M17.41 7.96l-1.37-1.37c-.4-.4-.92-.59-1.43-.59-.52 0-1.04.2-1.43.59L10.3 9.45l-7.72 7.72c-.78.78-.78 2.05 0 2.83L4 21.41c.39.39.9.59 1.41.59.51 0 1.02-.2 1.41-.59l7.78-7.78 2.81-2.81c.8-.78.8-2.07 0-2.86zM5.41 20L4 18.59l7.72-7.72 1.47 1.35L5.41 20z\"/>\n",
              "  </svg>\n",
              "      </button>\n",
              "      \n",
              "  <style>\n",
              "    .colab-df-container {\n",
              "      display:flex;\n",
              "      flex-wrap:wrap;\n",
              "      gap: 12px;\n",
              "    }\n",
              "\n",
              "    .colab-df-convert {\n",
              "      background-color: #E8F0FE;\n",
              "      border: none;\n",
              "      border-radius: 50%;\n",
              "      cursor: pointer;\n",
              "      display: none;\n",
              "      fill: #1967D2;\n",
              "      height: 32px;\n",
              "      padding: 0 0 0 0;\n",
              "      width: 32px;\n",
              "    }\n",
              "\n",
              "    .colab-df-convert:hover {\n",
              "      background-color: #E2EBFA;\n",
              "      box-shadow: 0px 1px 2px rgba(60, 64, 67, 0.3), 0px 1px 3px 1px rgba(60, 64, 67, 0.15);\n",
              "      fill: #174EA6;\n",
              "    }\n",
              "\n",
              "    [theme=dark] .colab-df-convert {\n",
              "      background-color: #3B4455;\n",
              "      fill: #D2E3FC;\n",
              "    }\n",
              "\n",
              "    [theme=dark] .colab-df-convert:hover {\n",
              "      background-color: #434B5C;\n",
              "      box-shadow: 0px 1px 3px 1px rgba(0, 0, 0, 0.15);\n",
              "      filter: drop-shadow(0px 1px 2px rgba(0, 0, 0, 0.3));\n",
              "      fill: #FFFFFF;\n",
              "    }\n",
              "  </style>\n",
              "\n",
              "      <script>\n",
              "        const buttonEl =\n",
              "          document.querySelector('#df-78071028-0c8f-48eb-ac7a-dec44b597ace button.colab-df-convert');\n",
              "        buttonEl.style.display =\n",
              "          google.colab.kernel.accessAllowed ? 'block' : 'none';\n",
              "\n",
              "        async function convertToInteractive(key) {\n",
              "          const element = document.querySelector('#df-78071028-0c8f-48eb-ac7a-dec44b597ace');\n",
              "          const dataTable =\n",
              "            await google.colab.kernel.invokeFunction('convertToInteractive',\n",
              "                                                     [key], {});\n",
              "          if (!dataTable) return;\n",
              "\n",
              "          const docLinkHtml = 'Like what you see? Visit the ' +\n",
              "            '<a target=\"_blank\" href=https://colab.research.google.com/notebooks/data_table.ipynb>data table notebook</a>'\n",
              "            + ' to learn more about interactive tables.';\n",
              "          element.innerHTML = '';\n",
              "          dataTable['output_type'] = 'display_data';\n",
              "          await google.colab.output.renderOutput(dataTable, element);\n",
              "          const docLink = document.createElement('div');\n",
              "          docLink.innerHTML = docLinkHtml;\n",
              "          element.appendChild(docLink);\n",
              "        }\n",
              "      </script>\n",
              "    </div>\n",
              "  </div>\n",
              "  "
            ]
          },
          "metadata": {},
          "execution_count": 25
        }
      ]
    },
    {
      "cell_type": "markdown",
      "source": [
        "Introducción \n",
        "\n",
        "Para el desarrollo de este taller tomaremos como referencia los precios de las acciones de ***Tesla ('TSLA')*** y de ***Google ('GOOG')***, trayendo el histórico de sus precios a partir de la periodicidad establecida en el enunciado del taller, que empieza en enero del año 2021 y termina en diciembre del año 2022. Es importante establecer que la periodicidad del histórico se trae en dos momentos, tanto díaria como mensual, para posteriormente utilizar y facilitar el desarrollo de ciertos incisos del primer punto. De igual forma, luego de traer el histórico de precios, se procede a tomar el precio ajustado, teniendo en cuenta que este último puede considerarse como el 'precio real', ya que cuenta con todos los ajustes que se realizan después del cierre, al igual que cuenta con los dividendos(en caso de que existan en la empresa). "
      ],
      "metadata": {
        "id": "nmCjI803IQQE"
      }
    },
    {
      "cell_type": "code",
      "source": [
        "from numpy.core.fromnumeric import mean\n",
        "#1.A) Cálculo de retornos díarios, mensuales y anual logaritmicos. \n",
        "ret_d=np.log(precios_adj/precios_adj.shift()).dropna()\n",
        "ret_m=np.log(precios_adj_m/precios_adj_m.shift()).dropna()\n",
        "ret_a=mean(ret_d)*252\n",
        "retm=mean(ret_m)\n",
        "retd=mean(ret_d)\n",
        "\n",
        "datos= {\"Retorno Log Díario\":retd, \"Retorno Log Mensual\":retm, \"Retorno Log Anual\":ret_a}\n",
        "ta= pd.DataFrame(datos)\n",
        "ta"
      ],
      "metadata": {
        "colab": {
          "base_uri": "https://localhost:8080/",
          "height": 112
        },
        "id": "Jhc9AgMk3y0k",
        "outputId": "34d92ff0-7bb5-4e2f-ae68-0feed5d73ffb"
      },
      "execution_count": 123,
      "outputs": [
        {
          "output_type": "execute_result",
          "data": {
            "text/plain": [
              "      Retorno Log Díario  Retorno Log Mensual  Retorno Log Anual\n",
              "GOOG            0.000053            -0.001473           0.013288\n",
              "TSLA           -0.001356            -0.033227          -0.341591"
            ],
            "text/html": [
              "\n",
              "  <div id=\"df-494d63be-8c9c-4cfa-85b8-7c7de319a0b7\">\n",
              "    <div class=\"colab-df-container\">\n",
              "      <div>\n",
              "<style scoped>\n",
              "    .dataframe tbody tr th:only-of-type {\n",
              "        vertical-align: middle;\n",
              "    }\n",
              "\n",
              "    .dataframe tbody tr th {\n",
              "        vertical-align: top;\n",
              "    }\n",
              "\n",
              "    .dataframe thead th {\n",
              "        text-align: right;\n",
              "    }\n",
              "</style>\n",
              "<table border=\"1\" class=\"dataframe\">\n",
              "  <thead>\n",
              "    <tr style=\"text-align: right;\">\n",
              "      <th></th>\n",
              "      <th>Retorno Log Díario</th>\n",
              "      <th>Retorno Log Mensual</th>\n",
              "      <th>Retorno Log Anual</th>\n",
              "    </tr>\n",
              "  </thead>\n",
              "  <tbody>\n",
              "    <tr>\n",
              "      <th>GOOG</th>\n",
              "      <td>0.000053</td>\n",
              "      <td>-0.001473</td>\n",
              "      <td>0.013288</td>\n",
              "    </tr>\n",
              "    <tr>\n",
              "      <th>TSLA</th>\n",
              "      <td>-0.001356</td>\n",
              "      <td>-0.033227</td>\n",
              "      <td>-0.341591</td>\n",
              "    </tr>\n",
              "  </tbody>\n",
              "</table>\n",
              "</div>\n",
              "      <button class=\"colab-df-convert\" onclick=\"convertToInteractive('df-494d63be-8c9c-4cfa-85b8-7c7de319a0b7')\"\n",
              "              title=\"Convert this dataframe to an interactive table.\"\n",
              "              style=\"display:none;\">\n",
              "        \n",
              "  <svg xmlns=\"http://www.w3.org/2000/svg\" height=\"24px\"viewBox=\"0 0 24 24\"\n",
              "       width=\"24px\">\n",
              "    <path d=\"M0 0h24v24H0V0z\" fill=\"none\"/>\n",
              "    <path d=\"M18.56 5.44l.94 2.06.94-2.06 2.06-.94-2.06-.94-.94-2.06-.94 2.06-2.06.94zm-11 1L8.5 8.5l.94-2.06 2.06-.94-2.06-.94L8.5 2.5l-.94 2.06-2.06.94zm10 10l.94 2.06.94-2.06 2.06-.94-2.06-.94-.94-2.06-.94 2.06-2.06.94z\"/><path d=\"M17.41 7.96l-1.37-1.37c-.4-.4-.92-.59-1.43-.59-.52 0-1.04.2-1.43.59L10.3 9.45l-7.72 7.72c-.78.78-.78 2.05 0 2.83L4 21.41c.39.39.9.59 1.41.59.51 0 1.02-.2 1.41-.59l7.78-7.78 2.81-2.81c.8-.78.8-2.07 0-2.86zM5.41 20L4 18.59l7.72-7.72 1.47 1.35L5.41 20z\"/>\n",
              "  </svg>\n",
              "      </button>\n",
              "      \n",
              "  <style>\n",
              "    .colab-df-container {\n",
              "      display:flex;\n",
              "      flex-wrap:wrap;\n",
              "      gap: 12px;\n",
              "    }\n",
              "\n",
              "    .colab-df-convert {\n",
              "      background-color: #E8F0FE;\n",
              "      border: none;\n",
              "      border-radius: 50%;\n",
              "      cursor: pointer;\n",
              "      display: none;\n",
              "      fill: #1967D2;\n",
              "      height: 32px;\n",
              "      padding: 0 0 0 0;\n",
              "      width: 32px;\n",
              "    }\n",
              "\n",
              "    .colab-df-convert:hover {\n",
              "      background-color: #E2EBFA;\n",
              "      box-shadow: 0px 1px 2px rgba(60, 64, 67, 0.3), 0px 1px 3px 1px rgba(60, 64, 67, 0.15);\n",
              "      fill: #174EA6;\n",
              "    }\n",
              "\n",
              "    [theme=dark] .colab-df-convert {\n",
              "      background-color: #3B4455;\n",
              "      fill: #D2E3FC;\n",
              "    }\n",
              "\n",
              "    [theme=dark] .colab-df-convert:hover {\n",
              "      background-color: #434B5C;\n",
              "      box-shadow: 0px 1px 3px 1px rgba(0, 0, 0, 0.15);\n",
              "      filter: drop-shadow(0px 1px 2px rgba(0, 0, 0, 0.3));\n",
              "      fill: #FFFFFF;\n",
              "    }\n",
              "  </style>\n",
              "\n",
              "      <script>\n",
              "        const buttonEl =\n",
              "          document.querySelector('#df-494d63be-8c9c-4cfa-85b8-7c7de319a0b7 button.colab-df-convert');\n",
              "        buttonEl.style.display =\n",
              "          google.colab.kernel.accessAllowed ? 'block' : 'none';\n",
              "\n",
              "        async function convertToInteractive(key) {\n",
              "          const element = document.querySelector('#df-494d63be-8c9c-4cfa-85b8-7c7de319a0b7');\n",
              "          const dataTable =\n",
              "            await google.colab.kernel.invokeFunction('convertToInteractive',\n",
              "                                                     [key], {});\n",
              "          if (!dataTable) return;\n",
              "\n",
              "          const docLinkHtml = 'Like what you see? Visit the ' +\n",
              "            '<a target=\"_blank\" href=https://colab.research.google.com/notebooks/data_table.ipynb>data table notebook</a>'\n",
              "            + ' to learn more about interactive tables.';\n",
              "          element.innerHTML = '';\n",
              "          dataTable['output_type'] = 'display_data';\n",
              "          await google.colab.output.renderOutput(dataTable, element);\n",
              "          const docLink = document.createElement('div');\n",
              "          docLink.innerHTML = docLinkHtml;\n",
              "          element.appendChild(docLink);\n",
              "        }\n",
              "      </script>\n",
              "    </div>\n",
              "  </div>\n",
              "  "
            ]
          },
          "metadata": {},
          "execution_count": 123
        }
      ]
    },
    {
      "cell_type": "code",
      "source": [
        "ret_d.plot();"
      ],
      "metadata": {
        "colab": {
          "base_uri": "https://localhost:8080/",
          "height": 277
        },
        "id": "h6nFu-cRLGhU",
        "outputId": "61b9b62d-534e-4368-9f85-d0cba23275d9"
      },
      "execution_count": 131,
      "outputs": [
        {
          "output_type": "display_data",
          "data": {
            "text/plain": [
              "<Figure size 432x288 with 1 Axes>"
            ],
            "image/png": "[encoded data removed]"
          },
          "metadata": {
            "needs_background": "light"
          }
        }
      ]
    },
    {
      "cell_type": "markdown",
      "source": [
        "\n",
        "Interpretación\n",
        "\n",
        "Para la interpretación de este punto es importante mencionar que el cálculo de los retornos logaritmicos permiten establecer una visión más precisa del comportamiento de los dos activos, para el periodo de tiempo seleccionado. Esto último, dada su característica de ser compuestos o continuos. Este concepto permite observar la variación porcentual del valor del precio de la acción entre ayer y hoy, por decirlo en palabras más laxas, lo cual permite analizar la posición en la que se han encontrado los inversionistas respecto a sus ganancias o pérdidas, con los activos financieros en cuestión. Para este caso particular, es imperativo rememorar que los retornos logaritmicos constituyen la acumulación de todas las variaciones de los retornos del activo en el tiempo. \n",
        "\n",
        "**TSLA**: Analizando los tres tipos de retornos que arroja la acción se puede denotar que este activo ha tenido una tendencia negativa, teniendo en cuenta la alta variación de precios por la que ha pasado las acciones de esta compañia a raíz del sin fin de coyunturas que se han generado por los diferentes accionares de su fundador Elon Musk. Realizando una revisión a la gráfica, se puede observar que la variación díaria del activo se encuentra entre 15% Y -17%, lo cual sustenta la alta volatilidad que ha presentado en el mercado. De igual forma, este tipo de comportamientos muestran que la acción de la empresa no ha tenido pérdidas o ganancias óptimas, puesto que hay una gran parte de los retornos por debajo de 0. \n",
        "\n",
        "**GOOG**: A diferencia de Tesla, al revisar el retorno de las acciones de google se puede denotar una tendencia positiva, que cuenta con una variación díaria de alrededor de 7% y -8%, lo cual demuestra que un crecimiento del valor del precio de la acción en el periodo de tiempo establecido, a raíz de ganancias significativas y de la poca cantidad de retornos que se encuentran por debajo de 0. \n"
      ],
      "metadata": {
        "id": "CIw3iHAyKL-E"
      }
    },
    {
      "cell_type": "code",
      "source": [
        "#Cáculo de Retornos esperados y Volatilidades Anualizadas\n",
        "\n",
        "#Valor esperado(la media de los retornos), la volatilidad anualizada(la desviacion estandar) para todos los activos \n",
        "#Cálculo para Tesla \n",
        "mean,sigma=ret_m[\"TSLA\"].mean(),ret_m[\"TSLA\"].std()\n",
        "print(mean,sigma)\n",
        "mean*12,sigma*np.sqrt(12)\n",
        "\n"
      ],
      "metadata": {
        "colab": {
          "base_uri": "https://localhost:8080/"
        },
        "id": "XTuplROK_HIL",
        "outputId": "90fd3eab-c7ae-4c9c-8a2c-b207d50470e3"
      },
      "execution_count": 37,
      "outputs": [
        {
          "output_type": "stream",
          "name": "stdout",
          "text": [
            "-0.03322749530218915 0.1732709192137775\n"
          ]
        },
        {
          "output_type": "execute_result",
          "data": {
            "text/plain": [
              "(-0.3987299436262698, 0.60022807110485)"
            ]
          },
          "metadata": {},
          "execution_count": 37
        }
      ]
    },
    {
      "cell_type": "code",
      "source": [
        "#Cálculo para Google\n",
        "mean,sigma=ret_m[\"GOOG\"].mean(),ret_m[\"GOOG\"].std()\n",
        "print(mean,sigma)\n",
        "mean*12,sigma*np.sqrt(12)"
      ],
      "metadata": {
        "colab": {
          "base_uri": "https://localhost:8080/"
        },
        "id": "VKs2Ie1WAAj-",
        "outputId": "bb531d90-f9c3-4715-8ee3-70f88eb83b23"
      },
      "execution_count": 38,
      "outputs": [
        {
          "output_type": "stream",
          "name": "stdout",
          "text": [
            "-0.001472722375922391 0.08539758016602027\n"
          ]
        },
        {
          "output_type": "execute_result",
          "data": {
            "text/plain": [
              "(-0.01767266851106869, 0.2958258953819667)"
            ]
          },
          "metadata": {},
          "execution_count": 38
        }
      ]
    },
    {
      "cell_type": "code",
      "source": [
        "Retornos_esperados= {\"Retornos esperados\":ret_m.mean(),\"Volatilidades Anualizadas\":ret_m.std()*np.sqrt(12)}\n",
        "df_re= pd.DataFrame(Retornos_esperados)\n",
        "df_re"
      ],
      "metadata": {
        "colab": {
          "base_uri": "https://localhost:8080/",
          "height": 112
        },
        "id": "m--f-hQvBTu_",
        "outputId": "ffe4cc61-b143-4944-bb6d-daca013c1f52"
      },
      "execution_count": 44,
      "outputs": [
        {
          "output_type": "execute_result",
          "data": {
            "text/plain": [
              "      Retornos esperados  Volatilidades Anualizadas\n",
              "GOOG           -0.001473                   0.295826\n",
              "TSLA           -0.033227                   0.600228"
            ],
            "text/html": [
              "\n",
              "  <div id=\"df-49ef8dde-1b50-4484-8c3b-1c2315b3482e\">\n",
              "    <div class=\"colab-df-container\">\n",
              "      <div>\n",
              "<style scoped>\n",
              "    .dataframe tbody tr th:only-of-type {\n",
              "        vertical-align: middle;\n",
              "    }\n",
              "\n",
              "    .dataframe tbody tr th {\n",
              "        vertical-align: top;\n",
              "    }\n",
              "\n",
              "    .dataframe thead th {\n",
              "        text-align: right;\n",
              "    }\n",
              "</style>\n",
              "<table border=\"1\" class=\"dataframe\">\n",
              "  <thead>\n",
              "    <tr style=\"text-align: right;\">\n",
              "      <th></th>\n",
              "      <th>Retornos esperados</th>\n",
              "      <th>Volatilidades Anualizadas</th>\n",
              "    </tr>\n",
              "  </thead>\n",
              "  <tbody>\n",
              "    <tr>\n",
              "      <th>GOOG</th>\n",
              "      <td>-0.001473</td>\n",
              "      <td>0.295826</td>\n",
              "    </tr>\n",
              "    <tr>\n",
              "      <th>TSLA</th>\n",
              "      <td>-0.033227</td>\n",
              "      <td>0.600228</td>\n",
              "    </tr>\n",
              "  </tbody>\n",
              "</table>\n",
              "</div>\n",
              "      <button class=\"colab-df-convert\" onclick=\"convertToInteractive('df-49ef8dde-1b50-4484-8c3b-1c2315b3482e')\"\n",
              "              title=\"Convert this dataframe to an interactive table.\"\n",
              "              style=\"display:none;\">\n",
              "        \n",
              "  <svg xmlns=\"http://www.w3.org/2000/svg\" height=\"24px\"viewBox=\"0 0 24 24\"\n",
              "       width=\"24px\">\n",
              "    <path d=\"M0 0h24v24H0V0z\" fill=\"none\"/>\n",
              "    <path d=\"M18.56 5.44l.94 2.06.94-2.06 2.06-.94-2.06-.94-.94-2.06-.94 2.06-2.06.94zm-11 1L8.5 8.5l.94-2.06 2.06-.94-2.06-.94L8.5 2.5l-.94 2.06-2.06.94zm10 10l.94 2.06.94-2.06 2.06-.94-2.06-.94-.94-2.06-.94 2.06-2.06.94z\"/><path d=\"M17.41 7.96l-1.37-1.37c-.4-.4-.92-.59-1.43-.59-.52 0-1.04.2-1.43.59L10.3 9.45l-7.72 7.72c-.78.78-.78 2.05 0 2.83L4 21.41c.39.39.9.59 1.41.59.51 0 1.02-.2 1.41-.59l7.78-7.78 2.81-2.81c.8-.78.8-2.07 0-2.86zM5.41 20L4 18.59l7.72-7.72 1.47 1.35L5.41 20z\"/>\n",
              "  </svg>\n",
              "      </button>\n",
              "      \n",
              "  <style>\n",
              "    .colab-df-container {\n",
              "      display:flex;\n",
              "      flex-wrap:wrap;\n",
              "      gap: 12px;\n",
              "    }\n",
              "\n",
              "    .colab-df-convert {\n",
              "      background-color: #E8F0FE;\n",
              "      border: none;\n",
              "      border-radius: 50%;\n",
              "      cursor: pointer;\n",
              "      display: none;\n",
              "      fill: #1967D2;\n",
              "      height: 32px;\n",
              "      padding: 0 0 0 0;\n",
              "      width: 32px;\n",
              "    }\n",
              "\n",
              "    .colab-df-convert:hover {\n",
              "      background-color: #E2EBFA;\n",
              "      box-shadow: 0px 1px 2px rgba(60, 64, 67, 0.3), 0px 1px 3px 1px rgba(60, 64, 67, 0.15);\n",
              "      fill: #174EA6;\n",
              "    }\n",
              "\n",
              "    [theme=dark] .colab-df-convert {\n",
              "      background-color: #3B4455;\n",
              "      fill: #D2E3FC;\n",
              "    }\n",
              "\n",
              "    [theme=dark] .colab-df-convert:hover {\n",
              "      background-color: #434B5C;\n",
              "      box-shadow: 0px 1px 3px 1px rgba(0, 0, 0, 0.15);\n",
              "      filter: drop-shadow(0px 1px 2px rgba(0, 0, 0, 0.3));\n",
              "      fill: #FFFFFF;\n",
              "    }\n",
              "  </style>\n",
              "\n",
              "      <script>\n",
              "        const buttonEl =\n",
              "          document.querySelector('#df-49ef8dde-1b50-4484-8c3b-1c2315b3482e button.colab-df-convert');\n",
              "        buttonEl.style.display =\n",
              "          google.colab.kernel.accessAllowed ? 'block' : 'none';\n",
              "\n",
              "        async function convertToInteractive(key) {\n",
              "          const element = document.querySelector('#df-49ef8dde-1b50-4484-8c3b-1c2315b3482e');\n",
              "          const dataTable =\n",
              "            await google.colab.kernel.invokeFunction('convertToInteractive',\n",
              "                                                     [key], {});\n",
              "          if (!dataTable) return;\n",
              "\n",
              "          const docLinkHtml = 'Like what you see? Visit the ' +\n",
              "            '<a target=\"_blank\" href=https://colab.research.google.com/notebooks/data_table.ipynb>data table notebook</a>'\n",
              "            + ' to learn more about interactive tables.';\n",
              "          element.innerHTML = '';\n",
              "          dataTable['output_type'] = 'display_data';\n",
              "          await google.colab.output.renderOutput(dataTable, element);\n",
              "          const docLink = document.createElement('div');\n",
              "          docLink.innerHTML = docLinkHtml;\n",
              "          element.appendChild(docLink);\n",
              "        }\n",
              "      </script>\n",
              "    </div>\n",
              "  </div>\n",
              "  "
            ]
          },
          "metadata": {},
          "execution_count": 44
        }
      ]
    },
    {
      "cell_type": "markdown",
      "source": [
        "Interpretación \n",
        "\n",
        "Para este punto se realizó el cálculo de los retornos esperados mensuales, junto con la volatilidad anualizada del precio de las acciones para los activos en cuestión.  Respecto a las dos acciones, se puede concluir que la mejor es Google, dada la relación riesgo/retorno que ofrece. En efecto, esta acción es la que ofrece una mayor rentabilidad al ser de -0.14% y la que tiene el menor nivel de riesgo con 29.6%, es decir, se logra un mayor nivel de rentabilidad con un menor riesgo. Ya que, por otra parte, la acción de Tesla ofrece una resntabilidad de -3.3% con un nivel de riesgo del 60%, que se puede entrever es muy alto. \n"
      ],
      "metadata": {
        "id": "d6SmGpyJSB-G"
      }
    },
    {
      "cell_type": "code",
      "source": [
        "#Tabla resumen con las estadísticas descriptivas \n",
        "\n",
        "#Estadisticas Descriptivas con los retornos díarios para los dos activos\n",
        "\n",
        "stats= {\"Media\":ret_d.mean(), \"Mediana\":ret_d.median(), \"Desviación\":ret_d.std(), \n",
        "        \"Curtosis\": ret_d.kurt(), \"Simetría\": ret_d.skew()}\n",
        "df1 = pd.DataFrame(stats)\n",
        "df1"
      ],
      "metadata": {
        "colab": {
          "base_uri": "https://localhost:8080/",
          "height": 112
        },
        "id": "HC8d0Wz5EztJ",
        "outputId": "e5a88fa5-9060-4fe9-ad3c-2161aa9093c2"
      },
      "execution_count": 45,
      "outputs": [
        {
          "output_type": "execute_result",
          "data": {
            "text/plain": [
              "         Media   Mediana  Desviación  Curtosis  Simetría\n",
              "GOOG  0.000053  0.000720    0.020306  2.244691 -0.030774\n",
              "TSLA -0.001356  0.000932    0.038495  1.538930 -0.027959"
            ],
            "text/html": [
              "\n",
              "  <div id=\"df-bd506f24-fcf0-423a-b7ac-3e1cc28f1563\">\n",
              "    <div class=\"colab-df-container\">\n",
              "      <div>\n",
              "<style scoped>\n",
              "    .dataframe tbody tr th:only-of-type {\n",
              "        vertical-align: middle;\n",
              "    }\n",
              "\n",
              "    .dataframe tbody tr th {\n",
              "        vertical-align: top;\n",
              "    }\n",
              "\n",
              "    .dataframe thead th {\n",
              "        text-align: right;\n",
              "    }\n",
              "</style>\n",
              "<table border=\"1\" class=\"dataframe\">\n",
              "  <thead>\n",
              "    <tr style=\"text-align: right;\">\n",
              "      <th></th>\n",
              "      <th>Media</th>\n",
              "      <th>Mediana</th>\n",
              "      <th>Desviación</th>\n",
              "      <th>Curtosis</th>\n",
              "      <th>Simetría</th>\n",
              "    </tr>\n",
              "  </thead>\n",
              "  <tbody>\n",
              "    <tr>\n",
              "      <th>GOOG</th>\n",
              "      <td>0.000053</td>\n",
              "      <td>0.000720</td>\n",
              "      <td>0.020306</td>\n",
              "      <td>2.244691</td>\n",
              "      <td>-0.030774</td>\n",
              "    </tr>\n",
              "    <tr>\n",
              "      <th>TSLA</th>\n",
              "      <td>-0.001356</td>\n",
              "      <td>0.000932</td>\n",
              "      <td>0.038495</td>\n",
              "      <td>1.538930</td>\n",
              "      <td>-0.027959</td>\n",
              "    </tr>\n",
              "  </tbody>\n",
              "</table>\n",
              "</div>\n",
              "      <button class=\"colab-df-convert\" onclick=\"convertToInteractive('df-bd506f24-fcf0-423a-b7ac-3e1cc28f1563')\"\n",
              "              title=\"Convert this dataframe to an interactive table.\"\n",
              "              style=\"display:none;\">\n",
              "        \n",
              "  <svg xmlns=\"http://www.w3.org/2000/svg\" height=\"24px\"viewBox=\"0 0 24 24\"\n",
              "       width=\"24px\">\n",
              "    <path d=\"M0 0h24v24H0V0z\" fill=\"none\"/>\n",
              "    <path d=\"M18.56 5.44l.94 2.06.94-2.06 2.06-.94-2.06-.94-.94-2.06-.94 2.06-2.06.94zm-11 1L8.5 8.5l.94-2.06 2.06-.94-2.06-.94L8.5 2.5l-.94 2.06-2.06.94zm10 10l.94 2.06.94-2.06 2.06-.94-2.06-.94-.94-2.06-.94 2.06-2.06.94z\"/><path d=\"M17.41 7.96l-1.37-1.37c-.4-.4-.92-.59-1.43-.59-.52 0-1.04.2-1.43.59L10.3 9.45l-7.72 7.72c-.78.78-.78 2.05 0 2.83L4 21.41c.39.39.9.59 1.41.59.51 0 1.02-.2 1.41-.59l7.78-7.78 2.81-2.81c.8-.78.8-2.07 0-2.86zM5.41 20L4 18.59l7.72-7.72 1.47 1.35L5.41 20z\"/>\n",
              "  </svg>\n",
              "      </button>\n",
              "      \n",
              "  <style>\n",
              "    .colab-df-container {\n",
              "      display:flex;\n",
              "      flex-wrap:wrap;\n",
              "      gap: 12px;\n",
              "    }\n",
              "\n",
              "    .colab-df-convert {\n",
              "      background-color: #E8F0FE;\n",
              "      border: none;\n",
              "      border-radius: 50%;\n",
              "      cursor: pointer;\n",
              "      display: none;\n",
              "      fill: #1967D2;\n",
              "      height: 32px;\n",
              "      padding: 0 0 0 0;\n",
              "      width: 32px;\n",
              "    }\n",
              "\n",
              "    .colab-df-convert:hover {\n",
              "      background-color: #E2EBFA;\n",
              "      box-shadow: 0px 1px 2px rgba(60, 64, 67, 0.3), 0px 1px 3px 1px rgba(60, 64, 67, 0.15);\n",
              "      fill: #174EA6;\n",
              "    }\n",
              "\n",
              "    [theme=dark] .colab-df-convert {\n",
              "      background-color: #3B4455;\n",
              "      fill: #D2E3FC;\n",
              "    }\n",
              "\n",
              "    [theme=dark] .colab-df-convert:hover {\n",
              "      background-color: #434B5C;\n",
              "      box-shadow: 0px 1px 3px 1px rgba(0, 0, 0, 0.15);\n",
              "      filter: drop-shadow(0px 1px 2px rgba(0, 0, 0, 0.3));\n",
              "      fill: #FFFFFF;\n",
              "    }\n",
              "  </style>\n",
              "\n",
              "      <script>\n",
              "        const buttonEl =\n",
              "          document.querySelector('#df-bd506f24-fcf0-423a-b7ac-3e1cc28f1563 button.colab-df-convert');\n",
              "        buttonEl.style.display =\n",
              "          google.colab.kernel.accessAllowed ? 'block' : 'none';\n",
              "\n",
              "        async function convertToInteractive(key) {\n",
              "          const element = document.querySelector('#df-bd506f24-fcf0-423a-b7ac-3e1cc28f1563');\n",
              "          const dataTable =\n",
              "            await google.colab.kernel.invokeFunction('convertToInteractive',\n",
              "                                                     [key], {});\n",
              "          if (!dataTable) return;\n",
              "\n",
              "          const docLinkHtml = 'Like what you see? Visit the ' +\n",
              "            '<a target=\"_blank\" href=https://colab.research.google.com/notebooks/data_table.ipynb>data table notebook</a>'\n",
              "            + ' to learn more about interactive tables.';\n",
              "          element.innerHTML = '';\n",
              "          dataTable['output_type'] = 'display_data';\n",
              "          await google.colab.output.renderOutput(dataTable, element);\n",
              "          const docLink = document.createElement('div');\n",
              "          docLink.innerHTML = docLinkHtml;\n",
              "          element.appendChild(docLink);\n",
              "        }\n",
              "      </script>\n",
              "    </div>\n",
              "  </div>\n",
              "  "
            ]
          },
          "metadata": {},
          "execution_count": 45
        }
      ]
    },
    {
      "cell_type": "markdown",
      "source": [
        "Interpretación \n",
        "\n",
        "Con respecto a las medidas descriptivas de los retornos para cada acción, podemos encontrar que el retorno promedio de resultados para la acción de GOOG se centra entre en 0.000053 con un valor medio de 0.00072, por otra parte, la acción de TSLA cuenta con un retorno promedio de -0.0013, lo cual es inferior al de GOOG, y respecto a su valor medio este se encuentra en 0.000932, que se distancia en 0.0002 de GOOG. Con esto, se puede volver a ratificar que el retorno promedio de la acción de Google es mayor a la de Tesla. En lo referente a la desviación estándar, esta nos muestra que tan dispersos están los retornos de las acciones con respecto a la media, por lo que se puede observar que la acción de Tesla cuenta con datos más dispersos, que los de Google, teniendo en cuenta que la desviación de la primera supera por 0.018 puntos a la otra. Ahora bien, respecto a la curtosis para las dos acciones se pueden observar niveles de curtosis Platicúrtica (<3) con poca concentración de datos en la media Y con altos niveles de dispersión entre los datos. Entre las dos, la acción que más se acerca a ser Mesocúrtica es la de Google, teniendo en cuenta que el valor de este componente es cercano a 3, que es lo que establecido para caracterizarse del tipo anteriormente mencionado. Respecto a la simetria de los datos, estos se encuentran concentrados a hacia la izquierda de la zona central de la distribución presentada. "
      ],
      "metadata": {
        "id": "fy3B0F6yTau2"
      }
    },
    {
      "cell_type": "code",
      "source": [
        "#1.D\n",
        "sbn.histplot(data=ret_d, x=\"TSLA\", kde=True)\n"
      ],
      "metadata": {
        "colab": {
          "base_uri": "https://localhost:8080/",
          "height": 297
        },
        "id": "3rPUg-GHFuIv",
        "outputId": "75235073-9dbe-4046-d12e-fb87d05ba846"
      },
      "execution_count": 49,
      "outputs": [
        {
          "output_type": "execute_result",
          "data": {
            "text/plain": [
              "<matplotlib.axes._subplots.AxesSubplot at 0x7f8fb3586460>"
            ]
          },
          "metadata": {},
          "execution_count": 49
        },
        {
          "output_type": "display_data",
          "data": {
            "text/plain": [
              "<Figure size 432x288 with 1 Axes>"
            ],
            "image/png": "[encoded data removed]"
          },
          "metadata": {
            "needs_background": "light"
          }
        }
      ]
    },
    {
      "cell_type": "markdown",
      "source": [
        "Interpretación \n",
        "\n",
        "1. Para la acción de Tesla podemos resaltar que el pico de los datos de los retornos se encuentran cercanos al punto 0.00, por ambas partes de la gráfica, de ahí que se puede observar la cantidad de datos que se encuentran por debajo de 0, lo cual se ve reflejado en los retornos que ofrece la acción.\n",
        "\n",
        "2. Los datos mantienen una distribución y concentración central cercana a la mediana, establecida en el punto anterior. \n",
        "\n",
        "3. En lo referente a la simetría se puede observar que los datos tienden a ser simétricos, mas no alcanza esta característica en su totalidad por lo que se podrían catalogar como parcialmente asimétricos. En la gráfica se puede observar su concentración hacia el lado izquierdo de la gráfica, lo que indica y ratifica que existe una gran cantidad de retornos por debajo de 0. De igual forma, es importante resaltar la presencia de datos atípicos. "
      ],
      "metadata": {
        "id": "Bh-t4vcwbAqZ"
      }
    },
    {
      "cell_type": "code",
      "source": [
        "sbn.histplot(data=ret_d, x=\"GOOG\", kde=True)"
      ],
      "metadata": {
        "colab": {
          "base_uri": "https://localhost:8080/",
          "height": 299
        },
        "id": "4kypQjuLGM7z",
        "outputId": "95bdce53-8d2a-4c20-ca0f-edad7062f88c"
      },
      "execution_count": 50,
      "outputs": [
        {
          "output_type": "execute_result",
          "data": {
            "text/plain": [
              "<matplotlib.axes._subplots.AxesSubplot at 0x7f8fb37e2e80>"
            ]
          },
          "metadata": {},
          "execution_count": 50
        },
        {
          "output_type": "display_data",
          "data": {
            "text/plain": [
              "<Figure size 432x288 with 1 Axes>"
            ],
            "image/png": "[encoded data removed]"
          },
          "metadata": {
            "needs_background": "light"
          }
        }
      ]
    },
    {
      "cell_type": "markdown",
      "source": [
        "Interpretación \n",
        "\n",
        "1. Para la acción de Google podemos resaltar que el pico de los datos de los retornos se encuentran cercanos al punto 0.00, por ambas partes de la gráfica. \n",
        "\n",
        "2. Los datos mantienen una distribución y concentración central cercana a la mediana, establecida en el punto anterior. \n",
        "\n",
        "3. En lo referente a la simetría se puede observar que los datos tienden a ser simétricos, esto se puede observar ya que están bien concentrados, mas no son completamente simétricos, porque al igual que Tesla, existe una mayor concentración de datos por debajo de 0. En ese sentido, para este caso los datos presentados si son retornos asimétricos con tendencia hacia la izquierda. Al igual que con Tesla se puede evidenciar la presencia de datos atípicos en los extremos de las gráficas. "
      ],
      "metadata": {
        "id": "qyOvmfeaazdV"
      }
    },
    {
      "cell_type": "markdown",
      "source": [
        "- En otro orden de ideas, gráficamente se puede entrever que las distribuciones son normales, a pesar de que posteriormente en las pruebas no se ratifique esto. "
      ],
      "metadata": {
        "id": "ZhZdp4CMuH3G"
      }
    },
    {
      "cell_type": "code",
      "source": [
        "#Cálculo de correlaciones de Pearson, Rango de Kendall y de Spearman\n",
        "\n",
        "#Correlación de Pearson \n",
        "matriz_correlacion=ret_d.corr().round(2)\n",
        "sbn.heatmap(data=matriz_correlacion,annot=True,annot_kws={\"size\": 10});"
      ],
      "metadata": {
        "colab": {
          "base_uri": "https://localhost:8080/",
          "height": 269
        },
        "id": "7xeccTPNHBzD",
        "outputId": "a8b892da-da8d-483f-d7ce-7c02e3529710"
      },
      "execution_count": 52,
      "outputs": [
        {
          "output_type": "display_data",
          "data": {
            "text/plain": [
              "<Figure size 432x288 with 2 Axes>"
            ],
            "image/png": "[encoded data removed]"
          },
          "metadata": {
            "needs_background": "light"
          }
        }
      ]
    },
    {
      "cell_type": "markdown",
      "source": [
        "***Correlación de Pearson.***\n",
        "\n",
        "La correlación de Pearson nos mostrará el nivel de relación existente entre las variables a consideración, que en este caso son Tesla y Google. A priori, se puede establecer que en todas las correlaciones que se presentarán a continuación mostrarán un grado de relación relativamente bajo, teniendo en cuenta que Tesla es una compañia dedicada a la comercialización de vehículos, junto con la producción y distribución de componentes de baterias. Mientras que, Google es una empresa dedicada a una rama completamente diferente, cuyo énfasis está dado al sector del internet, en el desarrollo de comunicación y programas. Para la métrica de esta correlación, sus parámetros indican que si está por debajo de 0, su relación es negativa, si es mayor a 0 es que existe relación de algún tipo, igual a 1 es relación lineal perfecta. Entre más cercano a 0, menor la relación y a 1, es mayor. En ese sentido, al observar la gráfica, que las variables cuentan con un grado de relación positiva con un nivel de asosiación bajo, teniendo en cuenta que es inferior a 0.5, pero mayor a 0. "
      ],
      "metadata": {
        "id": "V9_av6apdxsB"
      }
    },
    {
      "cell_type": "code",
      "source": [
        "#Correlacion de Spearman\n",
        "matriz_correlacion_2=ret_d.corr(method=\"spearman\").round(2)\n",
        "sbn.heatmap(data=matriz_correlacion_2,annot=True,annot_kws={\"size\": 10});"
      ],
      "metadata": {
        "colab": {
          "base_uri": "https://localhost:8080/",
          "height": 269
        },
        "id": "FHvaV5meHY4C",
        "outputId": "ee3295c8-0e8d-4e64-a5c5-86ab9f677383"
      },
      "execution_count": 53,
      "outputs": [
        {
          "output_type": "display_data",
          "data": {
            "text/plain": [
              "<Figure size 432x288 with 2 Axes>"
            ],
            "image/png": "[encoded data removed]"
          },
          "metadata": {
            "needs_background": "light"
          }
        }
      ]
    },
    {
      "cell_type": "markdown",
      "source": [
        "***Correlación de Spearman***\n",
        "\n",
        "La correlacion de Spearman relaciona el rango de dos variables, es decir, la diferencia entre su máximo y mínimo valor de los retornos (en este caso). Por lo que se puede observar que efectivamente el rango de los retornos díarios de estos activos cuentan con una relación positiva, mas no muy alta. "
      ],
      "metadata": {
        "id": "_WDzyi_NfvEx"
      }
    },
    {
      "cell_type": "code",
      "source": [
        "#Rango de Kendall \n",
        "import scipy.stats as stats\n",
        "matriz_correlacion_3= stats.kendalltau(ret_d['GOOG'], ret_d['TSLA'])\n",
        "matriz_correlacion_3"
      ],
      "metadata": {
        "colab": {
          "base_uri": "https://localhost:8080/"
        },
        "id": "D-QTI0dhI-co",
        "outputId": "49997b2d-d812-4ef1-9b8c-715b9ccf9b02"
      },
      "execution_count": 57,
      "outputs": [
        {
          "output_type": "execute_result",
          "data": {
            "text/plain": [
              "KendalltauResult(correlation=0.36568297667612987, pvalue=1.7393728467773816e-34)"
            ]
          },
          "metadata": {},
          "execution_count": 57
        }
      ]
    },
    {
      "cell_type": "code",
      "source": [
        "matriz_correlacion_4=ret_d.corr(method=\"kendall\").round(2)\n",
        "sbn.heatmap(data=matriz_correlacion_4,annot=True,annot_kws={\"size\": 10});"
      ],
      "metadata": {
        "colab": {
          "base_uri": "https://localhost:8080/",
          "height": 269
        },
        "id": "h-x5d5ZxKeaa",
        "outputId": "1dd88028-5073-4ab7-e5d7-11c70e2eae45"
      },
      "execution_count": 64,
      "outputs": [
        {
          "output_type": "display_data",
          "data": {
            "text/plain": [
              "<Figure size 432x288 with 2 Axes>"
            ],
            "image/png": "[encoded data removed]"
          },
          "metadata": {
            "needs_background": "light"
          }
        }
      ]
    },
    {
      "cell_type": "markdown",
      "source": [
        "***Rango de Kendall***\n",
        "\n",
        "El rango de Kendall es un tipo de medida no paramétrica que se utiliza para medir el nivel de relación entre dos columnas de datos dados, que parte de cuantificar la cantidad de datos concordantes y no concordantes, en aras, de calcular si existe o no una relación. En este caso, como se puede observar la correlación está dada por 0.37, por lo que al estar tan cercano al 0 se puede establecer que existe una relación bastante debil entre ambas columnas de datos. "
      ],
      "metadata": {
        "id": "ETLvgpI0gp14"
      }
    },
    {
      "cell_type": "code",
      "source": [
        "# Prueba de Kolmogorov-Smirnov\n",
        "tsla=stats.kstest(ret_d[\"TSLA\"],'norm')\n",
        "goog=stats.kstest(ret_d[\"GOOG\"],'norm')"
      ],
      "metadata": {
        "id": "75CxeFrvLL79"
      },
      "execution_count": 65,
      "outputs": []
    },
    {
      "cell_type": "code",
      "source": [
        "stats2={\"TSLA\":tsla,\"GOOG\":goog}\n",
        "df2=pd.DataFrame(stats2, index=[\"Estadistico\",\"Valor P\"])\n",
        "df2"
      ],
      "metadata": {
        "colab": {
          "base_uri": "https://localhost:8080/",
          "height": 112
        },
        "id": "4szUIw05LZHC",
        "outputId": "2692c8a6-db5f-4bd9-d8c4-ca194a0e9e07"
      },
      "execution_count": 66,
      "outputs": [
        {
          "output_type": "execute_result",
          "data": {
            "text/plain": [
              "                     TSLA           GOOG\n",
              "Estadistico  4.551877e-01   4.739149e-01\n",
              "Valor P      1.453144e-95  4.864949e-104"
            ],
            "text/html": [
              "\n",
              "  <div id=\"df-fbe25623-2665-4e26-a778-d3792bc064d8\">\n",
              "    <div class=\"colab-df-container\">\n",
              "      <div>\n",
              "<style scoped>\n",
              "    .dataframe tbody tr th:only-of-type {\n",
              "        vertical-align: middle;\n",
              "    }\n",
              "\n",
              "    .dataframe tbody tr th {\n",
              "        vertical-align: top;\n",
              "    }\n",
              "\n",
              "    .dataframe thead th {\n",
              "        text-align: right;\n",
              "    }\n",
              "</style>\n",
              "<table border=\"1\" class=\"dataframe\">\n",
              "  <thead>\n",
              "    <tr style=\"text-align: right;\">\n",
              "      <th></th>\n",
              "      <th>TSLA</th>\n",
              "      <th>GOOG</th>\n",
              "    </tr>\n",
              "  </thead>\n",
              "  <tbody>\n",
              "    <tr>\n",
              "      <th>Estadistico</th>\n",
              "      <td>4.551877e-01</td>\n",
              "      <td>4.739149e-01</td>\n",
              "    </tr>\n",
              "    <tr>\n",
              "      <th>Valor P</th>\n",
              "      <td>1.453144e-95</td>\n",
              "      <td>4.864949e-104</td>\n",
              "    </tr>\n",
              "  </tbody>\n",
              "</table>\n",
              "</div>\n",
              "      <button class=\"colab-df-convert\" onclick=\"convertToInteractive('df-fbe25623-2665-4e26-a778-d3792bc064d8')\"\n",
              "              title=\"Convert this dataframe to an interactive table.\"\n",
              "              style=\"display:none;\">\n",
              "        \n",
              "  <svg xmlns=\"http://www.w3.org/2000/svg\" height=\"24px\"viewBox=\"0 0 24 24\"\n",
              "       width=\"24px\">\n",
              "    <path d=\"M0 0h24v24H0V0z\" fill=\"none\"/>\n",
              "    <path d=\"M18.56 5.44l.94 2.06.94-2.06 2.06-.94-2.06-.94-.94-2.06-.94 2.06-2.06.94zm-11 1L8.5 8.5l.94-2.06 2.06-.94-2.06-.94L8.5 2.5l-.94 2.06-2.06.94zm10 10l.94 2.06.94-2.06 2.06-.94-2.06-.94-.94-2.06-.94 2.06-2.06.94z\"/><path d=\"M17.41 7.96l-1.37-1.37c-.4-.4-.92-.59-1.43-.59-.52 0-1.04.2-1.43.59L10.3 9.45l-7.72 7.72c-.78.78-.78 2.05 0 2.83L4 21.41c.39.39.9.59 1.41.59.51 0 1.02-.2 1.41-.59l7.78-7.78 2.81-2.81c.8-.78.8-2.07 0-2.86zM5.41 20L4 18.59l7.72-7.72 1.47 1.35L5.41 20z\"/>\n",
              "  </svg>\n",
              "      </button>\n",
              "      \n",
              "  <style>\n",
              "    .colab-df-container {\n",
              "      display:flex;\n",
              "      flex-wrap:wrap;\n",
              "      gap: 12px;\n",
              "    }\n",
              "\n",
              "    .colab-df-convert {\n",
              "      background-color: #E8F0FE;\n",
              "      border: none;\n",
              "      border-radius: 50%;\n",
              "      cursor: pointer;\n",
              "      display: none;\n",
              "      fill: #1967D2;\n",
              "      height: 32px;\n",
              "      padding: 0 0 0 0;\n",
              "      width: 32px;\n",
              "    }\n",
              "\n",
              "    .colab-df-convert:hover {\n",
              "      background-color: #E2EBFA;\n",
              "      box-shadow: 0px 1px 2px rgba(60, 64, 67, 0.3), 0px 1px 3px 1px rgba(60, 64, 67, 0.15);\n",
              "      fill: #174EA6;\n",
              "    }\n",
              "\n",
              "    [theme=dark] .colab-df-convert {\n",
              "      background-color: #3B4455;\n",
              "      fill: #D2E3FC;\n",
              "    }\n",
              "\n",
              "    [theme=dark] .colab-df-convert:hover {\n",
              "      background-color: #434B5C;\n",
              "      box-shadow: 0px 1px 3px 1px rgba(0, 0, 0, 0.15);\n",
              "      filter: drop-shadow(0px 1px 2px rgba(0, 0, 0, 0.3));\n",
              "      fill: #FFFFFF;\n",
              "    }\n",
              "  </style>\n",
              "\n",
              "      <script>\n",
              "        const buttonEl =\n",
              "          document.querySelector('#df-fbe25623-2665-4e26-a778-d3792bc064d8 button.colab-df-convert');\n",
              "        buttonEl.style.display =\n",
              "          google.colab.kernel.accessAllowed ? 'block' : 'none';\n",
              "\n",
              "        async function convertToInteractive(key) {\n",
              "          const element = document.querySelector('#df-fbe25623-2665-4e26-a778-d3792bc064d8');\n",
              "          const dataTable =\n",
              "            await google.colab.kernel.invokeFunction('convertToInteractive',\n",
              "                                                     [key], {});\n",
              "          if (!dataTable) return;\n",
              "\n",
              "          const docLinkHtml = 'Like what you see? Visit the ' +\n",
              "            '<a target=\"_blank\" href=https://colab.research.google.com/notebooks/data_table.ipynb>data table notebook</a>'\n",
              "            + ' to learn more about interactive tables.';\n",
              "          element.innerHTML = '';\n",
              "          dataTable['output_type'] = 'display_data';\n",
              "          await google.colab.output.renderOutput(dataTable, element);\n",
              "          const docLink = document.createElement('div');\n",
              "          docLink.innerHTML = docLinkHtml;\n",
              "          element.appendChild(docLink);\n",
              "        }\n",
              "      </script>\n",
              "    </div>\n",
              "  </div>\n",
              "  "
            ]
          },
          "metadata": {},
          "execution_count": 66
        }
      ]
    },
    {
      "cell_type": "markdown",
      "source": [
        "***Prueba de Kolmogorov-Smirnov***\n",
        "\n",
        "Esta prueba tiene por objetivo analizar si los datos obtenidos de la muestra siguen distribución normal o no, en ese sentido si el P-Value es menor a 0.05, se concluye que los datos no siguen una distribución normal, como sucede en ambos casos analizados, tanto para Tesla, como para Google. "
      ],
      "metadata": {
        "id": "HUwahZALhZRl"
      }
    },
    {
      "cell_type": "code",
      "source": [
        "#Punto 2 \n",
        "activos_2 = ['MSFT','AAPL','DBX','KO','AMZN','NFLX','DIS','HD','VZ','INTC']\n",
        "precios_2 = yf.download(activos_2,start=\"2017-12-31\",end=\"2022-12-31\",interval='1Mo').dropna()\n",
        "precios_adj_2 = precios_2.loc[:,\"Adj Close\"]"
      ],
      "metadata": {
        "colab": {
          "base_uri": "https://localhost:8080/"
        },
        "id": "r8l7c1_VMdzq",
        "outputId": "9e58d588-f304-426e-f243-4a4da54d218b"
      },
      "execution_count": 71,
      "outputs": [
        {
          "output_type": "stream",
          "name": "stdout",
          "text": [
            "[*********************100%***********************]  10 of 10 completed\n"
          ]
        }
      ]
    },
    {
      "cell_type": "code",
      "source": [
        "#Retornos logaritmicos de los nuevos activos \n",
        "ret=np.log(precios_adj_2/precios_adj_2.shift()).dropna()"
      ],
      "metadata": {
        "id": "085Xg-pvVvTR"
      },
      "execution_count": 73,
      "outputs": []
    },
    {
      "cell_type": "code",
      "source": [
        "#Valor esperado(la media de los retornos) anualizado, la volatilidad anualizada(la desviacion estandar) para todos los activos \n",
        "#1)\n",
        "mean,sigma=ret[\"MSFT\"].mean(),ret[\"MSFT\"].std()\n",
        "print(mean,sigma)\n",
        "mean*12,sigma*np.sqrt(12)"
      ],
      "metadata": {
        "colab": {
          "base_uri": "https://localhost:8080/"
        },
        "id": "3hwJ0sE5WSyB",
        "outputId": "2bbe4de0-a15e-46c8-d5de-0f049e6ec5fd"
      },
      "execution_count": 74,
      "outputs": [
        {
          "output_type": "stream",
          "name": "stdout",
          "text": [
            "0.017804997290641698 0.06217825444440779\n"
          ]
        },
        {
          "output_type": "execute_result",
          "data": {
            "text/plain": [
              "(0.2136599674877004, 0.21539179164731928)"
            ]
          },
          "metadata": {},
          "execution_count": 74
        }
      ]
    },
    {
      "cell_type": "code",
      "source": [
        "#2)\n",
        "mean,sigma=ret[\"AAPL\"].mean(),ret[\"AAPL\"].std()\n",
        "print(mean,sigma)\n",
        "mean*12,sigma*np.sqrt(12)"
      ],
      "metadata": {
        "colab": {
          "base_uri": "https://localhost:8080/"
        },
        "id": "uwGJQVlqWYMG",
        "outputId": "1eae9491-a2c9-4ef1-fa64-2c6374d56f3d"
      },
      "execution_count": 75,
      "outputs": [
        {
          "output_type": "stream",
          "name": "stdout",
          "text": [
            "0.021286572654958296 0.09447112250123718\n"
          ]
        },
        {
          "output_type": "execute_result",
          "data": {
            "text/plain": [
              "(0.25543887185949954, 0.3272575680404124)"
            ]
          },
          "metadata": {},
          "execution_count": 75
        }
      ]
    },
    {
      "cell_type": "code",
      "source": [
        "#3)\n",
        "mean,sigma=ret[\"DBX\"].mean(),ret[\"DBX\"].std()\n",
        "print(mean,sigma)\n",
        "mean*12,sigma*np.sqrt(12)"
      ],
      "metadata": {
        "colab": {
          "base_uri": "https://localhost:8080/"
        },
        "id": "o0RIYDBXWbW8",
        "outputId": "0a192f3f-03cc-4fc8-beb5-b591943ea3cd"
      },
      "execution_count": 76,
      "outputs": [
        {
          "output_type": "stream",
          "name": "stdout",
          "text": [
            "-0.0052980303103544344 0.09382133957232279\n"
          ]
        },
        {
          "output_type": "execute_result",
          "data": {
            "text/plain": [
              "(-0.06357636372425321, 0.32500665394687106)"
            ]
          },
          "metadata": {},
          "execution_count": 76
        }
      ]
    },
    {
      "cell_type": "code",
      "source": [
        "#4)\n",
        "mean,sigma=ret[\"KO\"].mean(),ret[\"KO\"].std()\n",
        "print(mean,sigma)\n",
        "mean*12,sigma*np.sqrt(12)"
      ],
      "metadata": {
        "colab": {
          "base_uri": "https://localhost:8080/"
        },
        "id": "VR5BntMXWd-8",
        "outputId": "9860dc75-9e0c-4808-85d8-677ec45ed895"
      },
      "execution_count": 77,
      "outputs": [
        {
          "output_type": "stream",
          "name": "stdout",
          "text": [
            "0.009588401118210854 0.057224607088294376\n"
          ]
        },
        {
          "output_type": "execute_result",
          "data": {
            "text/plain": [
              "(0.11506081341853025, 0.19823185384018394)"
            ]
          },
          "metadata": {},
          "execution_count": 77
        }
      ]
    },
    {
      "cell_type": "code",
      "source": [
        "#5)\n",
        "mean,sigma=ret[\"AMZN\"].mean(),ret[\"AMZN\"].std()\n",
        "print(mean,sigma)\n",
        "mean*12,sigma*np.sqrt(12)"
      ],
      "metadata": {
        "colab": {
          "base_uri": "https://localhost:8080/"
        },
        "id": "CgtAGDbNWg6B",
        "outputId": "aa1aa619-cbb8-40a4-9bd8-497ec8e22382"
      },
      "execution_count": 78,
      "outputs": [
        {
          "output_type": "stream",
          "name": "stdout",
          "text": [
            "0.0012533239848890082 0.0961162039600223\n"
          ]
        },
        {
          "output_type": "execute_result",
          "data": {
            "text/plain": [
              "(0.015039887818668099, 0.33295629737882304)"
            ]
          },
          "metadata": {},
          "execution_count": 78
        }
      ]
    },
    {
      "cell_type": "code",
      "source": [
        "#6)\n",
        "mean,sigma=ret['NFLX'].mean(),ret[\"NFLX\"].std()\n",
        "print(mean,sigma)\n",
        "mean*12,sigma*np.sqrt(12)"
      ],
      "metadata": {
        "colab": {
          "base_uri": "https://localhost:8080/"
        },
        "id": "HLfSBdwSWm58",
        "outputId": "e36b14b3-8d43-4bae-93ed-c5c59c0d532f"
      },
      "execution_count": 79,
      "outputs": [
        {
          "output_type": "stream",
          "name": "stdout",
          "text": [
            "-0.001034070056363402 0.13778713750397492\n"
          ]
        },
        {
          "output_type": "execute_result",
          "data": {
            "text/plain": [
              "(-0.012408840676360824, 0.4773086455727274)"
            ]
          },
          "metadata": {},
          "execution_count": 79
        }
      ]
    },
    {
      "cell_type": "code",
      "source": [
        "#7)\n",
        "mean,sigma=ret[\"HD\"].mean(),ret[\"HD\"].std()\n",
        "print(mean,sigma)\n",
        "mean*12,sigma*np.sqrt(12)"
      ],
      "metadata": {
        "colab": {
          "base_uri": "https://localhost:8080/"
        },
        "id": "z_ZarBEMWxa5",
        "outputId": "7587e3fe-01cd-40bb-fd9a-61eb808c6f6f"
      },
      "execution_count": 80,
      "outputs": [
        {
          "output_type": "stream",
          "name": "stdout",
          "text": [
            "0.011578546930438494 0.0716201674265595\n"
          ]
        },
        {
          "output_type": "execute_result",
          "data": {
            "text/plain": [
              "(0.13894256316526193, 0.24809953765878112)"
            ]
          },
          "metadata": {},
          "execution_count": 80
        }
      ]
    },
    {
      "cell_type": "code",
      "source": [
        "#8)\n",
        "mean,sigma=ret[\"DIS\"].mean(),ret[\"DIS\"].std()\n",
        "print(mean,sigma)\n",
        "mean*12,sigma*np.sqrt(12)"
      ],
      "metadata": {
        "colab": {
          "base_uri": "https://localhost:8080/"
        },
        "id": "O-Cu1IHEW5Ae",
        "outputId": "0899e31e-294a-43c7-8396-232725f957e8"
      },
      "execution_count": 81,
      "outputs": [
        {
          "output_type": "stream",
          "name": "stdout",
          "text": [
            "-0.0020724425966001875 0.09568584162498447\n"
          ]
        },
        {
          "output_type": "execute_result",
          "data": {
            "text/plain": [
              "(-0.02486931115920225, 0.3314654785189241)"
            ]
          },
          "metadata": {},
          "execution_count": 81
        }
      ]
    },
    {
      "cell_type": "code",
      "source": [
        "#9)\n",
        "mean,sigma=ret[\"VZ\"].mean(),ret[\"VZ\"].std()\n",
        "print(mean,sigma)\n",
        "mean*12,sigma*np.sqrt(12)"
      ],
      "metadata": {
        "colab": {
          "base_uri": "https://localhost:8080/"
        },
        "id": "aI3xL0VlW8qR",
        "outputId": "1b3793db-6e9f-4252-e7cd-173925625662"
      },
      "execution_count": 82,
      "outputs": [
        {
          "output_type": "stream",
          "name": "stdout",
          "text": [
            "-0.0001470600538274603 0.04863147272709082\n"
          ]
        },
        {
          "output_type": "execute_result",
          "data": {
            "text/plain": [
              "(-0.0017647206459295236, 0.16846436322044298)"
            ]
          },
          "metadata": {},
          "execution_count": 82
        }
      ]
    },
    {
      "cell_type": "code",
      "source": [
        "#10)\n",
        "mean,sigma=ret[\"INTC\"].mean(),ret[\"INTC\"].std()\n",
        "print(mean,sigma)\n",
        "mean*12,sigma*np.sqrt(12)"
      ],
      "metadata": {
        "colab": {
          "base_uri": "https://localhost:8080/"
        },
        "id": "aeSxxXWVXAdT",
        "outputId": "f355f4e6-5b6a-47d1-8811-331ed34b55d1"
      },
      "execution_count": 83,
      "outputs": [
        {
          "output_type": "stream",
          "name": "stdout",
          "text": [
            "-0.009599876456241276 0.0849965584147903\n"
          ]
        },
        {
          "output_type": "execute_result",
          "data": {
            "text/plain": [
              "(-0.11519851747489532, 0.29443671528582555)"
            ]
          },
          "metadata": {},
          "execution_count": 83
        }
      ]
    },
    {
      "cell_type": "code",
      "source": [
        "Retornos_esperados_2= {\"Retornos esperados\":ret.mean()*12,\"Volatilidades Anualizadas\":ret.std()*np.sqrt(12)}\n",
        "df_re_2= pd.DataFrame(Retornos_esperados_2)\n",
        "df_re_2.sort_values(by=['Retornos esperados'],ascending=False)"
      ],
      "metadata": {
        "colab": {
          "base_uri": "https://localhost:8080/",
          "height": 363
        },
        "id": "7TCfvDDpYAE6",
        "outputId": "e6853d80-c20a-45cd-a248-15ef6b38f1b6"
      },
      "execution_count": 87,
      "outputs": [
        {
          "output_type": "execute_result",
          "data": {
            "text/plain": [
              "      Retornos esperados  Volatilidades Anualizadas\n",
              "AAPL            0.255439                   0.327258\n",
              "MSFT            0.213660                   0.215392\n",
              "HD              0.138943                   0.248100\n",
              "KO              0.115061                   0.198232\n",
              "AMZN            0.015040                   0.332956\n",
              "VZ             -0.001765                   0.168464\n",
              "NFLX           -0.012409                   0.477309\n",
              "DIS            -0.024869                   0.331465\n",
              "DBX            -0.063576                   0.325007\n",
              "INTC           -0.115199                   0.294437"
            ],
            "text/html": [
              "\n",
              "  <div id=\"df-f6297200-58c8-449e-afa6-1d9cde1ee76e\">\n",
              "    <div class=\"colab-df-container\">\n",
              "      <div>\n",
              "<style scoped>\n",
              "    .dataframe tbody tr th:only-of-type {\n",
              "        vertical-align: middle;\n",
              "    }\n",
              "\n",
              "    .dataframe tbody tr th {\n",
              "        vertical-align: top;\n",
              "    }\n",
              "\n",
              "    .dataframe thead th {\n",
              "        text-align: right;\n",
              "    }\n",
              "</style>\n",
              "<table border=\"1\" class=\"dataframe\">\n",
              "  <thead>\n",
              "    <tr style=\"text-align: right;\">\n",
              "      <th></th>\n",
              "      <th>Retornos esperados</th>\n",
              "      <th>Volatilidades Anualizadas</th>\n",
              "    </tr>\n",
              "  </thead>\n",
              "  <tbody>\n",
              "    <tr>\n",
              "      <th>AAPL</th>\n",
              "      <td>0.255439</td>\n",
              "      <td>0.327258</td>\n",
              "    </tr>\n",
              "    <tr>\n",
              "      <th>MSFT</th>\n",
              "      <td>0.213660</td>\n",
              "      <td>0.215392</td>\n",
              "    </tr>\n",
              "    <tr>\n",
              "      <th>HD</th>\n",
              "      <td>0.138943</td>\n",
              "      <td>0.248100</td>\n",
              "    </tr>\n",
              "    <tr>\n",
              "      <th>KO</th>\n",
              "      <td>0.115061</td>\n",
              "      <td>0.198232</td>\n",
              "    </tr>\n",
              "    <tr>\n",
              "      <th>AMZN</th>\n",
              "      <td>0.015040</td>\n",
              "      <td>0.332956</td>\n",
              "    </tr>\n",
              "    <tr>\n",
              "      <th>VZ</th>\n",
              "      <td>-0.001765</td>\n",
              "      <td>0.168464</td>\n",
              "    </tr>\n",
              "    <tr>\n",
              "      <th>NFLX</th>\n",
              "      <td>-0.012409</td>\n",
              "      <td>0.477309</td>\n",
              "    </tr>\n",
              "    <tr>\n",
              "      <th>DIS</th>\n",
              "      <td>-0.024869</td>\n",
              "      <td>0.331465</td>\n",
              "    </tr>\n",
              "    <tr>\n",
              "      <th>DBX</th>\n",
              "      <td>-0.063576</td>\n",
              "      <td>0.325007</td>\n",
              "    </tr>\n",
              "    <tr>\n",
              "      <th>INTC</th>\n",
              "      <td>-0.115199</td>\n",
              "      <td>0.294437</td>\n",
              "    </tr>\n",
              "  </tbody>\n",
              "</table>\n",
              "</div>\n",
              "      <button class=\"colab-df-convert\" onclick=\"convertToInteractive('df-f6297200-58c8-449e-afa6-1d9cde1ee76e')\"\n",
              "              title=\"Convert this dataframe to an interactive table.\"\n",
              "              style=\"display:none;\">\n",
              "        \n",
              "  <svg xmlns=\"http://www.w3.org/2000/svg\" height=\"24px\"viewBox=\"0 0 24 24\"\n",
              "       width=\"24px\">\n",
              "    <path d=\"M0 0h24v24H0V0z\" fill=\"none\"/>\n",
              "    <path d=\"M18.56 5.44l.94 2.06.94-2.06 2.06-.94-2.06-.94-.94-2.06-.94 2.06-2.06.94zm-11 1L8.5 8.5l.94-2.06 2.06-.94-2.06-.94L8.5 2.5l-.94 2.06-2.06.94zm10 10l.94 2.06.94-2.06 2.06-.94-2.06-.94-.94-2.06-.94 2.06-2.06.94z\"/><path d=\"M17.41 7.96l-1.37-1.37c-.4-.4-.92-.59-1.43-.59-.52 0-1.04.2-1.43.59L10.3 9.45l-7.72 7.72c-.78.78-.78 2.05 0 2.83L4 21.41c.39.39.9.59 1.41.59.51 0 1.02-.2 1.41-.59l7.78-7.78 2.81-2.81c.8-.78.8-2.07 0-2.86zM5.41 20L4 18.59l7.72-7.72 1.47 1.35L5.41 20z\"/>\n",
              "  </svg>\n",
              "      </button>\n",
              "      \n",
              "  <style>\n",
              "    .colab-df-container {\n",
              "      display:flex;\n",
              "      flex-wrap:wrap;\n",
              "      gap: 12px;\n",
              "    }\n",
              "\n",
              "    .colab-df-convert {\n",
              "      background-color: #E8F0FE;\n",
              "      border: none;\n",
              "      border-radius: 50%;\n",
              "      cursor: pointer;\n",
              "      display: none;\n",
              "      fill: #1967D2;\n",
              "      height: 32px;\n",
              "      padding: 0 0 0 0;\n",
              "      width: 32px;\n",
              "    }\n",
              "\n",
              "    .colab-df-convert:hover {\n",
              "      background-color: #E2EBFA;\n",
              "      box-shadow: 0px 1px 2px rgba(60, 64, 67, 0.3), 0px 1px 3px 1px rgba(60, 64, 67, 0.15);\n",
              "      fill: #174EA6;\n",
              "    }\n",
              "\n",
              "    [theme=dark] .colab-df-convert {\n",
              "      background-color: #3B4455;\n",
              "      fill: #D2E3FC;\n",
              "    }\n",
              "\n",
              "    [theme=dark] .colab-df-convert:hover {\n",
              "      background-color: #434B5C;\n",
              "      box-shadow: 0px 1px 3px 1px rgba(0, 0, 0, 0.15);\n",
              "      filter: drop-shadow(0px 1px 2px rgba(0, 0, 0, 0.3));\n",
              "      fill: #FFFFFF;\n",
              "    }\n",
              "  </style>\n",
              "\n",
              "      <script>\n",
              "        const buttonEl =\n",
              "          document.querySelector('#df-f6297200-58c8-449e-afa6-1d9cde1ee76e button.colab-df-convert');\n",
              "        buttonEl.style.display =\n",
              "          google.colab.kernel.accessAllowed ? 'block' : 'none';\n",
              "\n",
              "        async function convertToInteractive(key) {\n",
              "          const element = document.querySelector('#df-f6297200-58c8-449e-afa6-1d9cde1ee76e');\n",
              "          const dataTable =\n",
              "            await google.colab.kernel.invokeFunction('convertToInteractive',\n",
              "                                                     [key], {});\n",
              "          if (!dataTable) return;\n",
              "\n",
              "          const docLinkHtml = 'Like what you see? Visit the ' +\n",
              "            '<a target=\"_blank\" href=https://colab.research.google.com/notebooks/data_table.ipynb>data table notebook</a>'\n",
              "            + ' to learn more about interactive tables.';\n",
              "          element.innerHTML = '';\n",
              "          dataTable['output_type'] = 'display_data';\n",
              "          await google.colab.output.renderOutput(dataTable, element);\n",
              "          const docLink = document.createElement('div');\n",
              "          docLink.innerHTML = docLinkHtml;\n",
              "          element.appendChild(docLink);\n",
              "        }\n",
              "      </script>\n",
              "    </div>\n",
              "  </div>\n",
              "  "
            ]
          },
          "metadata": {},
          "execution_count": 87
        }
      ]
    },
    {
      "cell_type": "markdown",
      "source": [
        "Interpretación \n",
        "\n",
        "Antes de iniciar con la interpretación, es importante resaltar que el proceso de obtención de los retornos, precios y volatilidades que se realizó, es el mismo del anterior punto. De ahí que, con base en los resultados presentados se puede observar que la acción que presenta mejor retorno anual, es la acción de Apple, no obstante, se puede observar que esta presenta un riesgo considerablemente mayor (del 32%), con respecto con el activo que quedó en segunda posición, Microsoft, que cuenta con un riesgo de 21%, retornando 4 puntos menos por debajo de Apple. Lo anterior, permite concluir que la acción que cuenta con una mejor relación riesgo/retorno es Microsoft, puesto que ofrece 4 puntos menos de rentabilidad, pero con 11% menos de riesgo en referencia a la acción que más genera de las 10 en cuestión. También, cabe mencionar que estos resultados son completamente coherentes dada las trayectorias de estas dos compañías desde la fecha de inicio (2007) planteada por el enunciado, ya que al ser empresas dedicadas al sector tecnológico, el desarrollo que han tenido a través de los años les ha permitido incrementar considerablemente el precio de la acción, especialmente Apple con la gran valorización que ha tenido recientemente a raíz de sus estretaegías financieras. Por otra parte, es curioso revisar el retorno y la volatilidad asociada a al tiempo de una compañia, teniendo en cuenta el caso de Coca Cola, que a pesar de ser una compañía de tantos años no cuenta con un retorno excesivamente alto, debido que su sector del mercado limita un poco su innovación ya que cuentan con un producto que lleva consolidado en el mercado una gran cantidad de años. "
      ],
      "metadata": {
        "id": "28uY9GNVj9h4"
      }
    },
    {
      "cell_type": "code",
      "source": [
        "#Punto 3\n",
        "\n",
        "#Serie de precios desde Diciembre del 2011 a Diciembre de 2022\n",
        "activos = ['^RUT']\n",
        "precios_i = yf.download(activos,start=\"2011-12-31\",end=\"2022-12-31\",interval='1Mo').dropna()\n",
        "precios_adj_i = precios_i.loc[:,\"Adj Close\"]\n",
        "precios_adj_i\n"
      ],
      "metadata": {
        "colab": {
          "base_uri": "https://localhost:8080/"
        },
        "id": "v5ITLs3In_AZ",
        "outputId": "4b41e2b6-45a9-43a2-f28d-c3373d16ded7"
      },
      "execution_count": 90,
      "outputs": [
        {
          "output_type": "stream",
          "name": "stdout",
          "text": [
            "\r[*********************100%***********************]  1 of 1 completed\n"
          ]
        },
        {
          "output_type": "execute_result",
          "data": {
            "text/plain": [
              "Date\n",
              "2012-01-01     792.820007\n",
              "2012-02-01     810.940002\n",
              "2012-03-01     830.299988\n",
              "2012-04-01     816.880005\n",
              "2012-05-01     761.820007\n",
              "                 ...     \n",
              "2022-08-01    1844.119995\n",
              "2022-09-01    1664.719971\n",
              "2022-10-01    1846.859985\n",
              "2022-11-01    1886.579956\n",
              "2022-12-01    1761.250000\n",
              "Name: Adj Close, Length: 132, dtype: float64"
            ]
          },
          "metadata": {},
          "execution_count": 90
        }
      ]
    },
    {
      "cell_type": "code",
      "source": [
        "#Cálculo de los retornos del índice \n",
        "ret_i=np.log(precios_adj_i/precios_adj_i.shift()).dropna()\n",
        "ret_i"
      ],
      "metadata": {
        "colab": {
          "base_uri": "https://localhost:8080/"
        },
        "id": "sCTpLEPEo-hG",
        "outputId": "b69f4a8e-feb7-4888-9043-a8ac5bef1fff"
      },
      "execution_count": 91,
      "outputs": [
        {
          "output_type": "execute_result",
          "data": {
            "text/plain": [
              "Date\n",
              "2012-02-01    0.022598\n",
              "2012-03-01    0.023593\n",
              "2012-04-01   -0.016295\n",
              "2012-05-01   -0.069782\n",
              "2012-06-01    0.047012\n",
              "                ...   \n",
              "2022-08-01   -0.022048\n",
              "2022-09-01   -0.102345\n",
              "2022-10-01    0.103830\n",
              "2022-11-01    0.021279\n",
              "2022-12-01   -0.068742\n",
              "Name: Adj Close, Length: 131, dtype: float64"
            ]
          },
          "metadata": {},
          "execution_count": 91
        }
      ]
    },
    {
      "cell_type": "code",
      "source": [
        "#Volatilidad mensual y anualizada con Desviacion Estandar \n",
        "sigma_m = ret_i.std()\n",
        "mean_m=ret_i.mean()\n",
        "sigma_m"
      ],
      "metadata": {
        "colab": {
          "base_uri": "https://localhost:8080/"
        },
        "id": "DdOxJFBtpHtz",
        "outputId": "1d0d4d03-dc9a-4d3f-b300-b7cfafa72564"
      },
      "execution_count": 92,
      "outputs": [
        {
          "output_type": "execute_result",
          "data": {
            "text/plain": [
              "0.054690663898147106"
            ]
          },
          "metadata": {},
          "execution_count": 92
        }
      ]
    },
    {
      "cell_type": "code",
      "source": [
        "sigma_a=sigma_m*np.sqrt(12)\n",
        "sigma_a"
      ],
      "metadata": {
        "colab": {
          "base_uri": "https://localhost:8080/"
        },
        "id": "na007XZNpYNC",
        "outputId": "0ae8c26a-5249-4f4d-9a40-323785a9f2a5"
      },
      "execution_count": 93,
      "outputs": [
        {
          "output_type": "execute_result",
          "data": {
            "text/plain": [
              "0.18945401714252746"
            ]
          },
          "metadata": {},
          "execution_count": 93
        }
      ]
    },
    {
      "cell_type": "code",
      "source": [
        "mean_m"
      ],
      "metadata": {
        "colab": {
          "base_uri": "https://localhost:8080/"
        },
        "id": "RMDY7tKqpd6c",
        "outputId": "d739ecb3-8637-41cb-eb05-ac081eb7e4f8"
      },
      "execution_count": 94,
      "outputs": [
        {
          "output_type": "execute_result",
          "data": {
            "text/plain": [
              "0.00609299881094452"
            ]
          },
          "metadata": {},
          "execution_count": 94
        }
      ]
    },
    {
      "cell_type": "code",
      "source": [
        "mean_a=mean_m*np.sqrt(12)\n",
        "mean_a"
      ],
      "metadata": {
        "colab": {
          "base_uri": "https://localhost:8080/"
        },
        "id": "cwYXOS9dpe8B",
        "outputId": "f3dd2c21-3a20-4d00-9fe9-f3091064d485"
      },
      "execution_count": 95,
      "outputs": [
        {
          "output_type": "execute_result",
          "data": {
            "text/plain": [
              "0.02110676702202533"
            ]
          },
          "metadata": {},
          "execution_count": 95
        }
      ]
    },
    {
      "cell_type": "markdown",
      "source": [
        "Interpretación\n",
        "\n",
        "***Desviación Estándar***:La volatilidad constituye la desviación de la acción en un periodo de tiempo, en este caso, la variación mensual del compilado de acciones que componen el índice. Con lo anterior, se puede concluir que el índice Rusell cuenta con una desviación mensual del 54%, lo cual es bastante si no se tiene en consideración que este índice tiene en su composición 2000 acciones por lo que es completamente normal que sea tan volatil. En cuanto a su variación anual, es de 19%."
      ],
      "metadata": {
        "id": "7fi0baBWvkEd"
      }
    },
    {
      "cell_type": "code",
      "source": [
        "#Volatidilad modelo de Parkinson \n",
        "lnHLL = np.log(precios_i[\"High\"]/precios_i[\"Low\"]).dropna()\n",
        "sigmaPark_d = ((1/(4*np.log(2)))*lnHLL**2)**0.5\n",
        "sigmaPark_d.plot();"
      ],
      "metadata": {
        "colab": {
          "base_uri": "https://localhost:8080/",
          "height": 279
        },
        "id": "A3CX0lhVpnjM",
        "outputId": "9bed5177-a76c-42b4-d155-bbbfc4b73681"
      },
      "execution_count": 110,
      "outputs": [
        {
          "output_type": "display_data",
          "data": {
            "text/plain": [
              "<Figure size 432x288 with 1 Axes>"
            ],
            "image/png": "[encoded data removed]"
          },
          "metadata": {
            "needs_background": "light"
          }
        }
      ]
    },
    {
      "cell_type": "code",
      "source": [
        "#Volatidilad mensual modelo de Parkinson \n",
        "sigmaPark_m=sigmaPark_d.mean()\n",
        "sigmaPark_m"
      ],
      "metadata": {
        "colab": {
          "base_uri": "https://localhost:8080/"
        },
        "id": "YFgtQaeVtuRW",
        "outputId": "6bb77d35-1671-4348-8415-3bb5128feeff"
      },
      "execution_count": 125,
      "outputs": [
        {
          "output_type": "execute_result",
          "data": {
            "text/plain": [
              "0.05110282355923833"
            ]
          },
          "metadata": {},
          "execution_count": 125
        }
      ]
    },
    {
      "cell_type": "code",
      "source": [
        "#Volatidilad anual modelo de Parkinson \n",
        "sigmaPark=sigmaPark_d.mean()*np.sqrt(12)\n",
        "sigmaPark"
      ],
      "metadata": {
        "colab": {
          "base_uri": "https://localhost:8080/"
        },
        "id": "bGFeiC-dqbna",
        "outputId": "339af239-92c2-4aa7-a8e7-6a231947b5fb"
      },
      "execution_count": 111,
      "outputs": [
        {
          "output_type": "execute_result",
          "data": {
            "text/plain": [
              "0.17702537362965717"
            ]
          },
          "metadata": {},
          "execution_count": 111
        }
      ]
    },
    {
      "cell_type": "markdown",
      "source": [
        "Interpretación \n",
        "\n",
        "***Modelo de Parkinson***: El modelo de volatilidad parkinson, solo tiene en cuenta los precios maximos y minimos de los activos en cuestión, para el periodo de tiempo establecido, en este caso anual y mensual. Con esto presente, los resultados muestran una volatilidad mensual de 51% y anual de 17,7%, que nuevamente se puede denominar que es alta teniendo en cuenta las caracteristicas de las acciones que componen el índice. "
      ],
      "metadata": {
        "id": "Y7bkiTdA0RbJ"
      }
    },
    {
      "cell_type": "code",
      "source": [
        "#Volatilidad en Garman-Klass\n",
        "lnHL = np.log(precios_i[\"High\"]/precios_i[\"Low\"]).dropna()\n",
        "lnCO = np.log(precios_i[\"Close\"]/precios_i[\"Open\"]).dropna()\n",
        "sigmaGK_d = (0.5*lnHL**2-(2*np.log(2)-1)*lnCO**2)**0.5\n",
        "sigmaGK_d.plot();"
      ],
      "metadata": {
        "colab": {
          "base_uri": "https://localhost:8080/",
          "height": 280
        },
        "id": "qGWJFpLurFnX",
        "outputId": "25a3b7c7-11a1-4651-c785-94611449c154"
      },
      "execution_count": 112,
      "outputs": [
        {
          "output_type": "display_data",
          "data": {
            "text/plain": [
              "<Figure size 432x288 with 1 Axes>"
            ],
            "image/png": "[encoded data removed]"
          },
          "metadata": {
            "needs_background": "light"
          }
        }
      ]
    },
    {
      "cell_type": "code",
      "source": [
        "sigmaGK_m=sigmaGK_d.mean()\n",
        "sigmaGK_m"
      ],
      "metadata": {
        "colab": {
          "base_uri": "https://localhost:8080/"
        },
        "id": "raNx4eRwuDsY",
        "outputId": "7c392932-345b-40f0-b98a-dc0cc798c80a"
      },
      "execution_count": 126,
      "outputs": [
        {
          "output_type": "execute_result",
          "data": {
            "text/plain": [
              "0.05244964972327022"
            ]
          },
          "metadata": {},
          "execution_count": 126
        }
      ]
    },
    {
      "cell_type": "code",
      "source": [
        "#Volatilidad anual en Garman-Klass\n",
        "sigmaGK=sigmaGK_d.mean()*np.sqrt(12)\n",
        "sigmaGK"
      ],
      "metadata": {
        "colab": {
          "base_uri": "https://localhost:8080/"
        },
        "id": "NKV9u0WNrZga",
        "outputId": "c13f3fe2-efab-4550-cb65-38d8485d16d7"
      },
      "execution_count": 113,
      "outputs": [
        {
          "output_type": "execute_result",
          "data": {
            "text/plain": [
              "0.18169091631978984"
            ]
          },
          "metadata": {},
          "execution_count": 113
        }
      ]
    },
    {
      "cell_type": "markdown",
      "source": [
        "***Volatilidad de Garman-Klass***\n",
        "A diferencia del modelo de Parkinson, el modelo de volatilidad de Graman Klass tiene en cuenta los precios de apertura y cierre de la accion, por lo que podria considerarse mas eficiente, ya que no limita componentes de las acciones para realizar un cálculo de su variación. En ese sentido, este cálculo arroja unos valores similares a los anteriores, en donde la volatilidad mensual es de 52% y la anual de 18%. "
      ],
      "metadata": {
        "id": "HAMcgKcC1hSE"
      }
    },
    {
      "cell_type": "code",
      "source": [
        "#Volatilidad EWMA\n",
        "def EWMAvol(ret,Lambda):\n",
        "  m = len(ret) \n",
        "  b = np.arange(m-1,-1,-1) # secuencia decreciente\n",
        "  l = np.repeat(Lambda,m)\n",
        "\n",
        "  varewma = ((np.power(ret,2)*(np.power(l,b))).sum())*(1-Lambda)\n",
        "  EWMAvol = np.sqrt(varewma)\n",
        "  return(EWMAvol)\n",
        "Lambda = 0.94"
      ],
      "metadata": {
        "id": "UHweecaOrtGO"
      },
      "execution_count": 116,
      "outputs": []
    },
    {
      "cell_type": "code",
      "source": [
        "sigmaEWMA=EWMAvol(ret_i,0.94)*np.sqrt(12)"
      ],
      "metadata": {
        "id": "Wlr0ZmQ9rvLV"
      },
      "execution_count": 118,
      "outputs": []
    },
    {
      "cell_type": "code",
      "source": [
        "resultado= [sigmaEWMA]\n",
        "ewmastats={\"EWMA\":resultado}\n",
        "ewma=pd.DataFrame(ewmastats, index=['^RUT'])\n",
        "ewma"
      ],
      "metadata": {
        "colab": {
          "base_uri": "https://localhost:8080/",
          "height": 81
        },
        "id": "4_MgraSAsAf-",
        "outputId": "29b0362f-d45c-4130-befe-b4b60c2e3ecf"
      },
      "execution_count": 120,
      "outputs": [
        {
          "output_type": "execute_result",
          "data": {
            "text/plain": [
              "          EWMA\n",
              "^RUT  0.236623"
            ],
            "text/html": [
              "\n",
              "  <div id=\"df-73431448-83c0-4169-99c3-30cb82d1e713\">\n",
              "    <div class=\"colab-df-container\">\n",
              "      <div>\n",
              "<style scoped>\n",
              "    .dataframe tbody tr th:only-of-type {\n",
              "        vertical-align: middle;\n",
              "    }\n",
              "\n",
              "    .dataframe tbody tr th {\n",
              "        vertical-align: top;\n",
              "    }\n",
              "\n",
              "    .dataframe thead th {\n",
              "        text-align: right;\n",
              "    }\n",
              "</style>\n",
              "<table border=\"1\" class=\"dataframe\">\n",
              "  <thead>\n",
              "    <tr style=\"text-align: right;\">\n",
              "      <th></th>\n",
              "      <th>EWMA</th>\n",
              "    </tr>\n",
              "  </thead>\n",
              "  <tbody>\n",
              "    <tr>\n",
              "      <th>^RUT</th>\n",
              "      <td>0.236623</td>\n",
              "    </tr>\n",
              "  </tbody>\n",
              "</table>\n",
              "</div>\n",
              "      <button class=\"colab-df-convert\" onclick=\"convertToInteractive('df-73431448-83c0-4169-99c3-30cb82d1e713')\"\n",
              "              title=\"Convert this dataframe to an interactive table.\"\n",
              "              style=\"display:none;\">\n",
              "        \n",
              "  <svg xmlns=\"http://www.w3.org/2000/svg\" height=\"24px\"viewBox=\"0 0 24 24\"\n",
              "       width=\"24px\">\n",
              "    <path d=\"M0 0h24v24H0V0z\" fill=\"none\"/>\n",
              "    <path d=\"M18.56 5.44l.94 2.06.94-2.06 2.06-.94-2.06-.94-.94-2.06-.94 2.06-2.06.94zm-11 1L8.5 8.5l.94-2.06 2.06-.94-2.06-.94L8.5 2.5l-.94 2.06-2.06.94zm10 10l.94 2.06.94-2.06 2.06-.94-2.06-.94-.94-2.06-.94 2.06-2.06.94z\"/><path d=\"M17.41 7.96l-1.37-1.37c-.4-.4-.92-.59-1.43-.59-.52 0-1.04.2-1.43.59L10.3 9.45l-7.72 7.72c-.78.78-.78 2.05 0 2.83L4 21.41c.39.39.9.59 1.41.59.51 0 1.02-.2 1.41-.59l7.78-7.78 2.81-2.81c.8-.78.8-2.07 0-2.86zM5.41 20L4 18.59l7.72-7.72 1.47 1.35L5.41 20z\"/>\n",
              "  </svg>\n",
              "      </button>\n",
              "      \n",
              "  <style>\n",
              "    .colab-df-container {\n",
              "      display:flex;\n",
              "      flex-wrap:wrap;\n",
              "      gap: 12px;\n",
              "    }\n",
              "\n",
              "    .colab-df-convert {\n",
              "      background-color: #E8F0FE;\n",
              "      border: none;\n",
              "      border-radius: 50%;\n",
              "      cursor: pointer;\n",
              "      display: none;\n",
              "      fill: #1967D2;\n",
              "      height: 32px;\n",
              "      padding: 0 0 0 0;\n",
              "      width: 32px;\n",
              "    }\n",
              "\n",
              "    .colab-df-convert:hover {\n",
              "      background-color: #E2EBFA;\n",
              "      box-shadow: 0px 1px 2px rgba(60, 64, 67, 0.3), 0px 1px 3px 1px rgba(60, 64, 67, 0.15);\n",
              "      fill: #174EA6;\n",
              "    }\n",
              "\n",
              "    [theme=dark] .colab-df-convert {\n",
              "      background-color: #3B4455;\n",
              "      fill: #D2E3FC;\n",
              "    }\n",
              "\n",
              "    [theme=dark] .colab-df-convert:hover {\n",
              "      background-color: #434B5C;\n",
              "      box-shadow: 0px 1px 3px 1px rgba(0, 0, 0, 0.15);\n",
              "      filter: drop-shadow(0px 1px 2px rgba(0, 0, 0, 0.3));\n",
              "      fill: #FFFFFF;\n",
              "    }\n",
              "  </style>\n",
              "\n",
              "      <script>\n",
              "        const buttonEl =\n",
              "          document.querySelector('#df-73431448-83c0-4169-99c3-30cb82d1e713 button.colab-df-convert');\n",
              "        buttonEl.style.display =\n",
              "          google.colab.kernel.accessAllowed ? 'block' : 'none';\n",
              "\n",
              "        async function convertToInteractive(key) {\n",
              "          const element = document.querySelector('#df-73431448-83c0-4169-99c3-30cb82d1e713');\n",
              "          const dataTable =\n",
              "            await google.colab.kernel.invokeFunction('convertToInteractive',\n",
              "                                                     [key], {});\n",
              "          if (!dataTable) return;\n",
              "\n",
              "          const docLinkHtml = 'Like what you see? Visit the ' +\n",
              "            '<a target=\"_blank\" href=https://colab.research.google.com/notebooks/data_table.ipynb>data table notebook</a>'\n",
              "            + ' to learn more about interactive tables.';\n",
              "          element.innerHTML = '';\n",
              "          dataTable['output_type'] = 'display_data';\n",
              "          await google.colab.output.renderOutput(dataTable, element);\n",
              "          const docLink = document.createElement('div');\n",
              "          docLink.innerHTML = docLinkHtml;\n",
              "          element.appendChild(docLink);\n",
              "        }\n",
              "      </script>\n",
              "    </div>\n",
              "  </div>\n",
              "  "
            ]
          },
          "metadata": {},
          "execution_count": 120
        }
      ]
    },
    {
      "cell_type": "markdown",
      "source": [
        "**Volatilidad Ponderada Exponencial **\n",
        "Tiene por objetivo calcular la volatilidad del periodo siguiente en el cual se está calculando, es decir, si se realizó un cálculo díario, con este modelo se realiza un pronóstico del día de mañana. En ese sentido, como el cálculo se realizó de manera anual, se interpreta que el pronóstico de la volatilidad del índice para el siguiente año sea del 23,6%"
      ],
      "metadata": {
        "id": "W5_OtbEZ2qpK"
      }
    },
    {
      "cell_type": "markdown",
      "source": [
        "***Referencias ***\n",
        "\n",
        "1.  Curtosis -  Economipedia: https://economipedia.com/definiciones/curtosis.html\n",
        "\n",
        "2.   Coeficiente de Correlación de Pearson: https://www.cimec.es/coeficiente-correlacion-pearson/\n",
        "\n",
        "3. Coeficiente de Correlación de Spearman: https://www.questionpro.com/blog/es/coeficiente-de-correlacion-de-spearman/\n",
        "\n",
        "4. TAU de Kendall: https://statologos.com/kendalls-tau-2/ \n",
        "\n",
        "5. Prueba de Kolmogórov-Smirnov: https://psicologiaymente.com/miscelanea/prueba-kolmogorov-smirnov \n",
        "\n",
        "6. Retornos Logaritmicos: https://es.coursera.org/lecture/algoritmos-de-negociacion-basados-en-machine-learning/retornos-logaritmicos-6yFpx\n",
        "\n",
        "\n"
      ],
      "metadata": {
        "id": "gzKuvjth4XN9"
      }
    }
  ]
}