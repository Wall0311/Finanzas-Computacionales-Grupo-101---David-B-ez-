{
  "nbformat": 4,
  "nbformat_minor": 0,
  "metadata": {
    "colab": {
      "provenance": []
    },
    "kernelspec": {
      "name": "python3",
      "display_name": "Python 3"
    },
    "language_info": {
      "name": "python"
    }
  },
  "cells": [
    {
      "cell_type": "code",
      "source": [
        "#Previo a la ejecución del taller, es imperativo instalar las librerias que se usaran para el desarrollo del mismo \n",
        "import numpy as np\n",
        "import pandas as pd\n",
        "import matplotlib.pyplot as plt\n",
        "from scipy.optimize import minimize\n",
        "from scipy.optimize import linprog\n",
        "import cvxpy as cp"
      ],
      "metadata": {
        "id": "vRIXbss4Rv2q"
      },
      "execution_count": null,
      "outputs": []
    },
    {
      "cell_type": "markdown",
      "source": [
        "1) La empresa XYZ produce dos productos: A y B. La ganancia por unidad de A es de 3 dólares y de B es de 5 dólares. Para su producción dispone de 500 unidades de materia prima, 1000 unidades de mano de obra y 2000 dólares de capital, de los cuales se necesitan para producir una unidad de:\n",
        "###### i) A: una unidad de materia prima, dos unidades de mano de obra y una unidad de capital.\n",
        "###### ii) B: una unidad de materia prima, cuatro unidades de mano de obra y dos unidades de capital. Además, se necesita producir al menos 100 unidades de A y 150 unidades de B para satisfacer la demanda del mercado.\n",
        "\n",
        "Además, se necesita producir al menos 100 unidades de A y 150 unidades de B para\n",
        "satisfacer la demanda del mercado.\n",
        "\n",
        "Encuentre la asignación óptima de A y B que maximizan las ganancias de la empresa. Para ello, formule un problema de LP utilizando Scipy."
      ],
      "metadata": {
        "id": "iVJxtZGN4kUs"
      }
    },
    {
      "cell_type": "code",
      "source": [
        "# Función objetivo\n",
        "c1 = np.array([-3, -5])\n",
        "# Restricciones\n",
        "A1 = np.array([[1, 1], [2, 4], [1, 2]])\n",
        "b1 = np.array([500, 1000, 2000])\n",
        "bounds1 = ((100, None), \n",
        "          (150, None))\n",
        "# Optimización\n",
        "R1 = linprog(c1, A_ub=A1, b_ub=b1, bounds=bounds1)\n",
        "pd.DataFrame(R1.x).T\n"
      ],
      "metadata": {
        "colab": {
          "base_uri": "https://localhost:8080/",
          "height": 81
        },
        "id": "KU1sby2Q4pkc",
        "outputId": "8052405c-a1ba-4931-bf4f-abf9a3de3c8f"
      },
      "execution_count": null,
      "outputs": [
        {
          "output_type": "execute_result",
          "data": {
            "text/plain": [
              "       0      1\n",
              "0  200.0  150.0"
            ],
            "text/html": [
              "\n",
              "  <div id=\"df-8e78b3f8-3954-4f6f-96ac-aa5b6fe15cdc\">\n",
              "    <div class=\"colab-df-container\">\n",
              "      <div>\n",
              "<style scoped>\n",
              "    .dataframe tbody tr th:only-of-type {\n",
              "        vertical-align: middle;\n",
              "    }\n",
              "\n",
              "    .dataframe tbody tr th {\n",
              "        vertical-align: top;\n",
              "    }\n",
              "\n",
              "    .dataframe thead th {\n",
              "        text-align: right;\n",
              "    }\n",
              "</style>\n",
              "<table border=\"1\" class=\"dataframe\">\n",
              "  <thead>\n",
              "    <tr style=\"text-align: right;\">\n",
              "      <th></th>\n",
              "      <th>0</th>\n",
              "      <th>1</th>\n",
              "    </tr>\n",
              "  </thead>\n",
              "  <tbody>\n",
              "    <tr>\n",
              "      <th>0</th>\n",
              "      <td>200.0</td>\n",
              "      <td>150.0</td>\n",
              "    </tr>\n",
              "  </tbody>\n",
              "</table>\n",
              "</div>\n",
              "      <button class=\"colab-df-convert\" onclick=\"convertToInteractive('df-8e78b3f8-3954-4f6f-96ac-aa5b6fe15cdc')\"\n",
              "              title=\"Convert this dataframe to an interactive table.\"\n",
              "              style=\"display:none;\">\n",
              "        \n",
              "  <svg xmlns=\"http://www.w3.org/2000/svg\" height=\"24px\"viewBox=\"0 0 24 24\"\n",
              "       width=\"24px\">\n",
              "    <path d=\"M0 0h24v24H0V0z\" fill=\"none\"/>\n",
              "    <path d=\"M18.56 5.44l.94 2.06.94-2.06 2.06-.94-2.06-.94-.94-2.06-.94 2.06-2.06.94zm-11 1L8.5 8.5l.94-2.06 2.06-.94-2.06-.94L8.5 2.5l-.94 2.06-2.06.94zm10 10l.94 2.06.94-2.06 2.06-.94-2.06-.94-.94-2.06-.94 2.06-2.06.94z\"/><path d=\"M17.41 7.96l-1.37-1.37c-.4-.4-.92-.59-1.43-.59-.52 0-1.04.2-1.43.59L10.3 9.45l-7.72 7.72c-.78.78-.78 2.05 0 2.83L4 21.41c.39.39.9.59 1.41.59.51 0 1.02-.2 1.41-.59l7.78-7.78 2.81-2.81c.8-.78.8-2.07 0-2.86zM5.41 20L4 18.59l7.72-7.72 1.47 1.35L5.41 20z\"/>\n",
              "  </svg>\n",
              "      </button>\n",
              "      \n",
              "  <style>\n",
              "    .colab-df-container {\n",
              "      display:flex;\n",
              "      flex-wrap:wrap;\n",
              "      gap: 12px;\n",
              "    }\n",
              "\n",
              "    .colab-df-convert {\n",
              "      background-color: #E8F0FE;\n",
              "      border: none;\n",
              "      border-radius: 50%;\n",
              "      cursor: pointer;\n",
              "      display: none;\n",
              "      fill: #1967D2;\n",
              "      height: 32px;\n",
              "      padding: 0 0 0 0;\n",
              "      width: 32px;\n",
              "    }\n",
              "\n",
              "    .colab-df-convert:hover {\n",
              "      background-color: #E2EBFA;\n",
              "      box-shadow: 0px 1px 2px rgba(60, 64, 67, 0.3), 0px 1px 3px 1px rgba(60, 64, 67, 0.15);\n",
              "      fill: #174EA6;\n",
              "    }\n",
              "\n",
              "    [theme=dark] .colab-df-convert {\n",
              "      background-color: #3B4455;\n",
              "      fill: #D2E3FC;\n",
              "    }\n",
              "\n",
              "    [theme=dark] .colab-df-convert:hover {\n",
              "      background-color: #434B5C;\n",
              "      box-shadow: 0px 1px 3px 1px rgba(0, 0, 0, 0.15);\n",
              "      filter: drop-shadow(0px 1px 2px rgba(0, 0, 0, 0.3));\n",
              "      fill: #FFFFFF;\n",
              "    }\n",
              "  </style>\n",
              "\n",
              "      <script>\n",
              "        const buttonEl =\n",
              "          document.querySelector('#df-8e78b3f8-3954-4f6f-96ac-aa5b6fe15cdc button.colab-df-convert');\n",
              "        buttonEl.style.display =\n",
              "          google.colab.kernel.accessAllowed ? 'block' : 'none';\n",
              "\n",
              "        async function convertToInteractive(key) {\n",
              "          const element = document.querySelector('#df-8e78b3f8-3954-4f6f-96ac-aa5b6fe15cdc');\n",
              "          const dataTable =\n",
              "            await google.colab.kernel.invokeFunction('convertToInteractive',\n",
              "                                                     [key], {});\n",
              "          if (!dataTable) return;\n",
              "\n",
              "          const docLinkHtml = 'Like what you see? Visit the ' +\n",
              "            '<a target=\"_blank\" href=https://colab.research.google.com/notebooks/data_table.ipynb>data table notebook</a>'\n",
              "            + ' to learn more about interactive tables.';\n",
              "          element.innerHTML = '';\n",
              "          dataTable['output_type'] = 'display_data';\n",
              "          await google.colab.output.renderOutput(dataTable, element);\n",
              "          const docLink = document.createElement('div');\n",
              "          docLink.innerHTML = docLinkHtml;\n",
              "          element.appendChild(docLink);\n",
              "        }\n",
              "      </script>\n",
              "    </div>\n",
              "  </div>\n",
              "  "
            ]
          },
          "metadata": {},
          "execution_count": 10
        }
      ]
    },
    {
      "cell_type": "code",
      "source": [
        "# Ganancia total\n",
        "-R1.fun"
      ],
      "metadata": {
        "colab": {
          "base_uri": "https://localhost:8080/"
        },
        "id": "WWCs7LUd4s0j",
        "outputId": "5df34440-c2ec-4a17-d7b1-c887f10a061b"
      },
      "execution_count": null,
      "outputs": [
        {
          "output_type": "execute_result",
          "data": {
            "text/plain": [
              "1350.0"
            ]
          },
          "metadata": {},
          "execution_count": 11
        }
      ]
    },
    {
      "cell_type": "markdown",
      "source": [
        "Segun los datos que nos dan y con las formulacioines que se hicieron, podemos determinar que la asignacion optima de A y B que maximizan las ganancias de la empresa don de 200 y 150 respectivamente. Con con maximizacion de ganancias total de 1350"
      ],
      "metadata": {
        "id": "SN1sGt64G9yv"
      }
    },
    {
      "cell_type": "markdown",
      "source": [
        "2) Usted desea invertir la suma de $100 millones en cuatro fondos que tienen diferentes\n",
        "retornos esperados (E(R)), así como diferentes ponderaciones en acciones de alto valor,\n",
        "gran tamaño y alta liquidez, como muestra la siguiente tabla: \n",
        "\n",
        "![imagen especial](https://drive.google.com/uc?id=1gzaw-FoCup08aCbr--ZLRqZL-k11AHUg) \n",
        "\n",
        "La asignación anterior debe contener al menos un 35% de acciones de alto valor, un 30%\n",
        "en tamaño y un 15% de acciones de liquidez. Encuentre una asignación factible con el\n",
        "retorno esperado más alto, bajo el supuesto de que solo se le permite mantener posiciones\n",
        "largas en los fondos.\n",
        "\n",
        "Formule y resuelva el problema de LP considerando las siguientes restricciones:\n",
        "\n",
        "![imagen especial](https://drive.google.com/uc?id=1i3CaJ62ODAHU1LWYWg0OfXF1MDUnf7MY)\n",
        "\n",
        "Nota: resuelva el problema anterior usando las librerías de Scipy y CVXPY de Python.\n"
      ],
      "metadata": {
        "id": "0yRHQxJnR-7f"
      }
    },
    {
      "cell_type": "code",
      "execution_count": null,
      "metadata": {
        "colab": {
          "base_uri": "https://localhost:8080/",
          "height": 136
        },
        "id": "g45XZeg9KZpU",
        "outputId": "5517a772-d732-406c-e0b4-2ee64640fbf0"
      },
      "outputs": [
        {
          "output_type": "stream",
          "name": "stderr",
          "text": [
            "<ipython-input-2-155117053682>:18: DeprecationWarning: `method='simplex'` is deprecated and will be removed in SciPy 1.11.0. Please use one of the HiGHS solvers (e.g. `method='highs'`) in new code.\n",
            "  sol = linprog(-c, A_ub=-A_ub, b_ub=-b_ub,A_eq=A_eq,b_eq=b_eq, bounds=bounds_,method='simplex')\n"
          ]
        },
        {
          "output_type": "execute_result",
          "data": {
            "text/plain": [
              "     0       1       2       3\n",
              "0  0.0  0.1579  0.5789  0.2632"
            ],
            "text/html": [
              "\n",
              "  <div id=\"df-4f5fbc46-5d32-4682-b495-2f0fea933943\">\n",
              "    <div class=\"colab-df-container\">\n",
              "      <div>\n",
              "<style scoped>\n",
              "    .dataframe tbody tr th:only-of-type {\n",
              "        vertical-align: middle;\n",
              "    }\n",
              "\n",
              "    .dataframe tbody tr th {\n",
              "        vertical-align: top;\n",
              "    }\n",
              "\n",
              "    .dataframe thead th {\n",
              "        text-align: right;\n",
              "    }\n",
              "</style>\n",
              "<table border=\"1\" class=\"dataframe\">\n",
              "  <thead>\n",
              "    <tr style=\"text-align: right;\">\n",
              "      <th></th>\n",
              "      <th>0</th>\n",
              "      <th>1</th>\n",
              "      <th>2</th>\n",
              "      <th>3</th>\n",
              "    </tr>\n",
              "  </thead>\n",
              "  <tbody>\n",
              "    <tr>\n",
              "      <th>0</th>\n",
              "      <td>0.0</td>\n",
              "      <td>0.1579</td>\n",
              "      <td>0.5789</td>\n",
              "      <td>0.2632</td>\n",
              "    </tr>\n",
              "  </tbody>\n",
              "</table>\n",
              "</div>\n",
              "      <button class=\"colab-df-convert\" onclick=\"convertToInteractive('df-4f5fbc46-5d32-4682-b495-2f0fea933943')\"\n",
              "              title=\"Convert this dataframe to an interactive table.\"\n",
              "              style=\"display:none;\">\n",
              "        \n",
              "  <svg xmlns=\"http://www.w3.org/2000/svg\" height=\"24px\"viewBox=\"0 0 24 24\"\n",
              "       width=\"24px\">\n",
              "    <path d=\"M0 0h24v24H0V0z\" fill=\"none\"/>\n",
              "    <path d=\"M18.56 5.44l.94 2.06.94-2.06 2.06-.94-2.06-.94-.94-2.06-.94 2.06-2.06.94zm-11 1L8.5 8.5l.94-2.06 2.06-.94-2.06-.94L8.5 2.5l-.94 2.06-2.06.94zm10 10l.94 2.06.94-2.06 2.06-.94-2.06-.94-.94-2.06-.94 2.06-2.06.94z\"/><path d=\"M17.41 7.96l-1.37-1.37c-.4-.4-.92-.59-1.43-.59-.52 0-1.04.2-1.43.59L10.3 9.45l-7.72 7.72c-.78.78-.78 2.05 0 2.83L4 21.41c.39.39.9.59 1.41.59.51 0 1.02-.2 1.41-.59l7.78-7.78 2.81-2.81c.8-.78.8-2.07 0-2.86zM5.41 20L4 18.59l7.72-7.72 1.47 1.35L5.41 20z\"/>\n",
              "  </svg>\n",
              "      </button>\n",
              "      \n",
              "  <style>\n",
              "    .colab-df-container {\n",
              "      display:flex;\n",
              "      flex-wrap:wrap;\n",
              "      gap: 12px;\n",
              "    }\n",
              "\n",
              "    .colab-df-convert {\n",
              "      background-color: #E8F0FE;\n",
              "      border: none;\n",
              "      border-radius: 50%;\n",
              "      cursor: pointer;\n",
              "      display: none;\n",
              "      fill: #1967D2;\n",
              "      height: 32px;\n",
              "      padding: 0 0 0 0;\n",
              "      width: 32px;\n",
              "    }\n",
              "\n",
              "    .colab-df-convert:hover {\n",
              "      background-color: #E2EBFA;\n",
              "      box-shadow: 0px 1px 2px rgba(60, 64, 67, 0.3), 0px 1px 3px 1px rgba(60, 64, 67, 0.15);\n",
              "      fill: #174EA6;\n",
              "    }\n",
              "\n",
              "    [theme=dark] .colab-df-convert {\n",
              "      background-color: #3B4455;\n",
              "      fill: #D2E3FC;\n",
              "    }\n",
              "\n",
              "    [theme=dark] .colab-df-convert:hover {\n",
              "      background-color: #434B5C;\n",
              "      box-shadow: 0px 1px 3px 1px rgba(0, 0, 0, 0.15);\n",
              "      filter: drop-shadow(0px 1px 2px rgba(0, 0, 0, 0.3));\n",
              "      fill: #FFFFFF;\n",
              "    }\n",
              "  </style>\n",
              "\n",
              "      <script>\n",
              "        const buttonEl =\n",
              "          document.querySelector('#df-4f5fbc46-5d32-4682-b495-2f0fea933943 button.colab-df-convert');\n",
              "        buttonEl.style.display =\n",
              "          google.colab.kernel.accessAllowed ? 'block' : 'none';\n",
              "\n",
              "        async function convertToInteractive(key) {\n",
              "          const element = document.querySelector('#df-4f5fbc46-5d32-4682-b495-2f0fea933943');\n",
              "          const dataTable =\n",
              "            await google.colab.kernel.invokeFunction('convertToInteractive',\n",
              "                                                     [key], {});\n",
              "          if (!dataTable) return;\n",
              "\n",
              "          const docLinkHtml = 'Like what you see? Visit the ' +\n",
              "            '<a target=\"_blank\" href=https://colab.research.google.com/notebooks/data_table.ipynb>data table notebook</a>'\n",
              "            + ' to learn more about interactive tables.';\n",
              "          element.innerHTML = '';\n",
              "          dataTable['output_type'] = 'display_data';\n",
              "          await google.colab.output.renderOutput(dataTable, element);\n",
              "          const docLink = document.createElement('div');\n",
              "          docLink.innerHTML = docLinkHtml;\n",
              "          element.appendChild(docLink);\n",
              "        }\n",
              "      </script>\n",
              "    </div>\n",
              "  </div>\n",
              "  "
            ]
          },
          "metadata": {},
          "execution_count": 2
        }
      ],
      "source": [
        "# Parametros de la función objetivo\n",
        "c = np.array([0.10,0.15,0.16,0.08])\n",
        "# Restricciones de desigualdad\n",
        "A_ub = np.array([[0.5,0.3,0.25,0.6],\n",
        "                  [0.3,0.1,0.4,0.2],\n",
        "              [0.2,0.6,0.35,0.2]])\n",
        "\n",
        "b_ub = np.array([0.35,0.30,0.15])\n",
        "A_eq=np.array([[1,1,1,1]])\n",
        "b_eq=np.array([1])\n",
        "\n",
        "bounds_=  [(  0,    None),\n",
        "              (0, None),\n",
        "              (0, None),\n",
        "              (  0,   None)]\n",
        "\n",
        "# Solución del problema\n",
        "sol = linprog(-c, A_ub=-A_ub, b_ub=-b_ub,A_eq=A_eq,b_eq=b_eq, bounds=bounds_,method='simplex')\n",
        "pd.DataFrame(sol.x).round(4).T\n"
      ]
    },
    {
      "cell_type": "code",
      "source": [
        "#Función Objetivo (a Maximizar)"
      ],
      "metadata": {
        "colab": {
          "base_uri": "https://localhost:8080/"
        },
        "id": "y70mBqOmXHXw",
        "outputId": "47f838f5-9f09-4d58-b966-771f6700f06e"
      },
      "execution_count": null,
      "outputs": [
        {
          "output_type": "execute_result",
          "data": {
            "text/plain": [
              "0.13736842105263158"
            ]
          },
          "metadata": {},
          "execution_count": 5
        }
      ]
    },
    {
      "cell_type": "code",
      "source": [
        "# Ejecución con Librería CVXPY\n",
        "n = 4\n",
        "x = cp.Variable(n)\n",
        "objetivo = cp.Minimize(-c.T@x)\n",
        "restricciones = [A_ub @ x >= b_ub, cp.sum(x) == 1, x >= 0]\n",
        "prob = cp.Problem(objetivo, restricciones)\n",
        "prob.solve()\n",
        "sol_2= x.value\n",
        "print(round(pd.DataFrame(sol_2).T,4))"
      ],
      "metadata": {
        "colab": {
          "base_uri": "https://localhost:8080/"
        },
        "id": "B4VsvH6gWJGj",
        "outputId": "4c5b6a5c-9930-4325-b042-9b0ada428be4"
      },
      "execution_count": null,
      "outputs": [
        {
          "output_type": "stream",
          "name": "stdout",
          "text": [
            "     0       1       2       3\n",
            "0  0.0  0.1579  0.5789  0.2632\n"
          ]
        }
      ]
    },
    {
      "cell_type": "markdown",
      "source": [
        "Utilizando los dos metodos podemos llegar al mismo resultado, donde vemos que la asignacion mas factible bajos los parametros anteriormente mencionados son: 0.0 en el fondo 1, 0.1579 en el fondo 2, 0.5789 en el fondo 3 y 0.2632 en el fondo 4. Teniendo en cuenta aspectos como el tamaño, el valor y la liquidez "
      ],
      "metadata": {
        "id": "l8CI8EiJHb3c"
      }
    },
    {
      "cell_type": "markdown",
      "source": [
        "3) La empresa XYZ se enfrente al siguiente problema de manejo de efectivo. Las cifras\n",
        "están expresadas en millones ($).\n",
        "\n",
        "![imagen especial](https://drive.google.com/uc?id=1_kJDWi3NTrM8x2D_Q8cOwC-ux0CcxbbS)\n",
        "\n",
        "Además, se sabe que la empresa cuenta con las siguientes fuentes de recursos:\n",
        "\n",
        "* Una línea de crédito de hasta $100 a una tasa de interés del 1% mensual.\n",
        "* Puede emitir papel comercial a 90 días con un interés total del 2% por un período\n",
        "de 3 meses.\n",
        "* Todos los meses se pueden invertir los fondos sobrantes a una tasa de interés del\n",
        "0,3% mensual. Por ejemplo, la empresa podría hacer un depósito bancario que le\n",
        "reconoce esa tasa.\n",
        "\n",
        "Sobre este problema, la empresa desea saber si: ¿usar la línea de crédito en algunos de\n",
        "los meses le representa un alto costo? si es así ¿cuándo debería usarla? ¿cuánto cuesta?\n",
        "¿qué pagos de intereses tendrá que hacer entre enero y junio? etc... Para responder a\n",
        "estos interrogantes, la empresa puede formular y resolver un problema de LP.\n",
        "\n",
        "Para la\n",
        "formulación del problema tener en cuenta lo siguiente:\n",
        "\n",
        "\n",
        "\n",
        "![imagen especial](https://drive.google.com/uc?id=16z_fHH87f89oti3G55cGwkzRH0H7qKT7)\n",
        "\n",
        "Nota: resuelva el problema anterior usando las librerías de Scipy y CVXPY de Python."
      ],
      "metadata": {
        "id": "l491n9UpXuN0"
      }
    },
    {
      "cell_type": "code",
      "source": [
        "# Libreria Scipy\n",
        "c3 = np.array([0, 0, 0, 0, 0, 0, 0, 0, 0, 0, 0, 0, 0, 1])\n",
        "r_13 = np.array([[1, 0, 0, 0, 0, 1, 0, 0, -1, 0, 0, 0, 0, 0],\n",
        "                    [-1.01, 1, 0, 0, 0, 0, 1, 0, 1.003, -1, 0, 0, 0, 0],\n",
        "                    [0, -1.01, 1, 0, 0, 0, 0, 1, 0, 1.003, -1, 0, 0, 0],\n",
        "                    [0, 0, -1.01, 1, 0, -1.02, 0, 0, 0, 0, 1.003, -1, 0, 0],\n",
        "                    [0, 0, 0, -1.01, 1 ,0, -1.02, 0, 0, 0, 0, 1.003, -1, 0],\n",
        "                    [0, 0, 0, 0, -1.01, 0, 0, -1.02, 0, 0, 0, 0, 1.003, -1]])\n",
        "\n",
        "r_23 = np.array([150, 100, -200, 200, -50, -300])\n",
        "\n",
        "R3 = linprog(-c3, A_eq = r_13, b_eq = r_23, method = 'simplex')\n",
        "pd.DataFrame(R3.x).round(2).T"
      ],
      "metadata": {
        "colab": {
          "base_uri": "https://localhost:8080/",
          "height": 136
        },
        "id": "eghTP9BeYbQT",
        "outputId": "feba1ed8-6d04-4b9e-e439-af3419a688c6"
      },
      "execution_count": null,
      "outputs": [
        {
          "output_type": "stream",
          "name": "stderr",
          "text": [
            "<ipython-input-14-a214ef56d6bc>:12: DeprecationWarning: `method='simplex'` is deprecated and will be removed in SciPy 1.11.0. Please use one of the HiGHS solvers (e.g. `method='highs'`) in new code.\n",
            "  R3 = linprog(-c3, A_eq = r_13, b_eq = r_23, method = 'simplex')\n"
          ]
        },
        {
          "output_type": "execute_result",
          "data": {
            "text/plain": [
              "    0      1    2    3    4      5      6       7    8    9       10   11  \\\n",
              "0  0.0  50.98  0.0  0.0  0.0  150.0  49.02  203.43  0.0  0.0  351.94  0.0   \n",
              "\n",
              "    12    13  \n",
              "0  0.0  92.5  "
            ],
            "text/html": [
              "\n",
              "  <div id=\"df-33bc87a5-e8aa-44a3-959e-c860e6d1439b\">\n",
              "    <div class=\"colab-df-container\">\n",
              "      <div>\n",
              "<style scoped>\n",
              "    .dataframe tbody tr th:only-of-type {\n",
              "        vertical-align: middle;\n",
              "    }\n",
              "\n",
              "    .dataframe tbody tr th {\n",
              "        vertical-align: top;\n",
              "    }\n",
              "\n",
              "    .dataframe thead th {\n",
              "        text-align: right;\n",
              "    }\n",
              "</style>\n",
              "<table border=\"1\" class=\"dataframe\">\n",
              "  <thead>\n",
              "    <tr style=\"text-align: right;\">\n",
              "      <th></th>\n",
              "      <th>0</th>\n",
              "      <th>1</th>\n",
              "      <th>2</th>\n",
              "      <th>3</th>\n",
              "      <th>4</th>\n",
              "      <th>5</th>\n",
              "      <th>6</th>\n",
              "      <th>7</th>\n",
              "      <th>8</th>\n",
              "      <th>9</th>\n",
              "      <th>10</th>\n",
              "      <th>11</th>\n",
              "      <th>12</th>\n",
              "      <th>13</th>\n",
              "    </tr>\n",
              "  </thead>\n",
              "  <tbody>\n",
              "    <tr>\n",
              "      <th>0</th>\n",
              "      <td>0.0</td>\n",
              "      <td>50.98</td>\n",
              "      <td>0.0</td>\n",
              "      <td>0.0</td>\n",
              "      <td>0.0</td>\n",
              "      <td>150.0</td>\n",
              "      <td>49.02</td>\n",
              "      <td>203.43</td>\n",
              "      <td>0.0</td>\n",
              "      <td>0.0</td>\n",
              "      <td>351.94</td>\n",
              "      <td>0.0</td>\n",
              "      <td>0.0</td>\n",
              "      <td>92.5</td>\n",
              "    </tr>\n",
              "  </tbody>\n",
              "</table>\n",
              "</div>\n",
              "      <button class=\"colab-df-convert\" onclick=\"convertToInteractive('df-33bc87a5-e8aa-44a3-959e-c860e6d1439b')\"\n",
              "              title=\"Convert this dataframe to an interactive table.\"\n",
              "              style=\"display:none;\">\n",
              "        \n",
              "  <svg xmlns=\"http://www.w3.org/2000/svg\" height=\"24px\"viewBox=\"0 0 24 24\"\n",
              "       width=\"24px\">\n",
              "    <path d=\"M0 0h24v24H0V0z\" fill=\"none\"/>\n",
              "    <path d=\"M18.56 5.44l.94 2.06.94-2.06 2.06-.94-2.06-.94-.94-2.06-.94 2.06-2.06.94zm-11 1L8.5 8.5l.94-2.06 2.06-.94-2.06-.94L8.5 2.5l-.94 2.06-2.06.94zm10 10l.94 2.06.94-2.06 2.06-.94-2.06-.94-.94-2.06-.94 2.06-2.06.94z\"/><path d=\"M17.41 7.96l-1.37-1.37c-.4-.4-.92-.59-1.43-.59-.52 0-1.04.2-1.43.59L10.3 9.45l-7.72 7.72c-.78.78-.78 2.05 0 2.83L4 21.41c.39.39.9.59 1.41.59.51 0 1.02-.2 1.41-.59l7.78-7.78 2.81-2.81c.8-.78.8-2.07 0-2.86zM5.41 20L4 18.59l7.72-7.72 1.47 1.35L5.41 20z\"/>\n",
              "  </svg>\n",
              "      </button>\n",
              "      \n",
              "  <style>\n",
              "    .colab-df-container {\n",
              "      display:flex;\n",
              "      flex-wrap:wrap;\n",
              "      gap: 12px;\n",
              "    }\n",
              "\n",
              "    .colab-df-convert {\n",
              "      background-color: #E8F0FE;\n",
              "      border: none;\n",
              "      border-radius: 50%;\n",
              "      cursor: pointer;\n",
              "      display: none;\n",
              "      fill: #1967D2;\n",
              "      height: 32px;\n",
              "      padding: 0 0 0 0;\n",
              "      width: 32px;\n",
              "    }\n",
              "\n",
              "    .colab-df-convert:hover {\n",
              "      background-color: #E2EBFA;\n",
              "      box-shadow: 0px 1px 2px rgba(60, 64, 67, 0.3), 0px 1px 3px 1px rgba(60, 64, 67, 0.15);\n",
              "      fill: #174EA6;\n",
              "    }\n",
              "\n",
              "    [theme=dark] .colab-df-convert {\n",
              "      background-color: #3B4455;\n",
              "      fill: #D2E3FC;\n",
              "    }\n",
              "\n",
              "    [theme=dark] .colab-df-convert:hover {\n",
              "      background-color: #434B5C;\n",
              "      box-shadow: 0px 1px 3px 1px rgba(0, 0, 0, 0.15);\n",
              "      filter: drop-shadow(0px 1px 2px rgba(0, 0, 0, 0.3));\n",
              "      fill: #FFFFFF;\n",
              "    }\n",
              "  </style>\n",
              "\n",
              "      <script>\n",
              "        const buttonEl =\n",
              "          document.querySelector('#df-33bc87a5-e8aa-44a3-959e-c860e6d1439b button.colab-df-convert');\n",
              "        buttonEl.style.display =\n",
              "          google.colab.kernel.accessAllowed ? 'block' : 'none';\n",
              "\n",
              "        async function convertToInteractive(key) {\n",
              "          const element = document.querySelector('#df-33bc87a5-e8aa-44a3-959e-c860e6d1439b');\n",
              "          const dataTable =\n",
              "            await google.colab.kernel.invokeFunction('convertToInteractive',\n",
              "                                                     [key], {});\n",
              "          if (!dataTable) return;\n",
              "\n",
              "          const docLinkHtml = 'Like what you see? Visit the ' +\n",
              "            '<a target=\"_blank\" href=https://colab.research.google.com/notebooks/data_table.ipynb>data table notebook</a>'\n",
              "            + ' to learn more about interactive tables.';\n",
              "          element.innerHTML = '';\n",
              "          dataTable['output_type'] = 'display_data';\n",
              "          await google.colab.output.renderOutput(dataTable, element);\n",
              "          const docLink = document.createElement('div');\n",
              "          docLink.innerHTML = docLinkHtml;\n",
              "          element.appendChild(docLink);\n",
              "        }\n",
              "      </script>\n",
              "    </div>\n",
              "  </div>\n",
              "  "
            ]
          },
          "metadata": {},
          "execution_count": 14
        }
      ]
    },
    {
      "cell_type": "code",
      "source": [
        "# Librería CVXPY\n",
        "n = 14\n",
        "x = cp.Variable(n)\n",
        "o3 = cp.Minimize(-c3.T@x)\n",
        "r33 = [r_13 @ x == r_23, x >= 0]\n",
        "prob = cp.Problem(o3, r33)\n",
        "prob.solve()\n",
        "r3_2= x.value\n",
        "print(round(pd.DataFrame(r3_2).T,2))"
      ],
      "metadata": {
        "colab": {
          "base_uri": "https://localhost:8080/"
        },
        "id": "dJP_qm1HZfEx",
        "outputId": "1324c9d2-3e86-49d3-b6df-c575123de740"
      },
      "execution_count": null,
      "outputs": [
        {
          "output_type": "stream",
          "name": "stdout",
          "text": [
            "    0      1    2    3     4      5      6       7    8    9       10   11  \\\n",
            "0  0.0  42.69  0.0  0.0  8.46  150.0  57.31  195.06  0.0  0.0  351.94  0.0   \n",
            "\n",
            "    12    13  \n",
            "0  0.0  92.5  \n"
          ]
        }
      ]
    },
    {
      "cell_type": "markdown",
      "source": [
        "Inicialmente debemos tener en cuneta que en este caso no van a dar 100% igual con los dos metodos, debido a la manera en que optimizamos una libreria respecto a la otra. Si es importante usar el credito, pero es evidente que le genera alto costos, mayormente del septimo mes en adelatnte, ya que del sexto mes hacia atras solo se vera afectado un poco mas de 250."
      ],
      "metadata": {
        "id": "cETIJuQNI-c6"
      }
    },
    {
      "cell_type": "markdown",
      "source": [
        "4) La empresa XYZ desea encontrar el saldo óptimo que debe mantener en su cuenta bancaria en un horizonte de un mes buscando maximizar su rentabilidad total. Se sabe que la empresa espera recibir entradas de efectivo de: 500 dólares en la primera semana, 300 dólares en la segunda semana, 200 dólares en la tercera semana y $400 en la cuarta semana. Todas las cifras se encuentran en millones de pesos. Además, la empresa debe realizar los siguientes pagos durante el mes: 350 dólares en la primera semana, 400 dólares en la segunda semana, 250 dólares en la tercera semana y 200 dólares en la cuarta semana y, para ello, debe mantener un saldo suficiente que respalde estas obligaciones.\n",
        "\n",
        "Para aprovechar la rentabilidad que ofrecen los saldos en cada momento, la empresa puede invertir sus recursos en un instrumento a corto plazo en el que recibe un rendimiento del 0,02% por día, pero al realizar esta operación debe incurrir en un costo de transacción del 0,01% del monto transferido.\n",
        "\n",
        "Formule un problema de LP utilizando Scipy que le permita maximizar la rentabilidad total de los saldos en su cuenta teniendo en cuenta las restricciones de sus flujos de efectivo."
      ],
      "metadata": {
        "id": "3dzkvjxTaFWC"
      }
    },
    {
      "cell_type": "code",
      "source": [
        "# Función objetivo\n",
        "c4 = np.array([0, 0, 0, 0, 0, 0, 0, 1])\n",
        "# Restricciones\n",
        "r4 = (1+0.0001)**7\n",
        "A4 = np.array([[1, 0, 0, 0, -1, 0, 0, 0], \n",
        "                [0, 1, 0, 0, r4, -1, 0, 0], \n",
        "                [0, 0, 1, 0, 0, r4, -1, 0], \n",
        "                [0, 0, 0, 1, 0, 0, r4, -1]])\n",
        "b4 = np.array([[150, -100, -50, 200]])\n",
        "# Función de optimización\n",
        "R4 = linprog(-c4, A_ub=A4, b_ub=-b4, method='simplex')\n",
        "RTA4 = pd.DataFrame(R4.x).T\n",
        "RTA4.round(2)"
      ],
      "metadata": {
        "colab": {
          "base_uri": "https://localhost:8080/",
          "height": 136
        },
        "id": "g3FBj0T9BR7x",
        "outputId": "ff91d1f0-a27d-4687-c300-3d312bf02f67"
      },
      "execution_count": null,
      "outputs": [
        {
          "output_type": "stream",
          "name": "stderr",
          "text": [
            "<ipython-input-3-01222c0f90b9>:11: DeprecationWarning: `method='simplex'` is deprecated and will be removed in SciPy 1.11.0. Please use one of the HiGHS solvers (e.g. `method='highs'`) in new code.\n",
            "  R4 = linprog(-c4, A_ub=A4, b_ub=-b4, method='simplex')\n"
          ]
        },
        {
          "output_type": "execute_result",
          "data": {
            "text/plain": [
              "     0    1    2    3      4      5     6       7\n",
              "0  0.0  0.0  0.0  0.0  150.0  50.11  0.14  200.14"
            ],
            "text/html": [
              "\n",
              "  <div id=\"df-21ccf83e-3561-407d-8cff-2e888f7838d8\">\n",
              "    <div class=\"colab-df-container\">\n",
              "      <div>\n",
              "<style scoped>\n",
              "    .dataframe tbody tr th:only-of-type {\n",
              "        vertical-align: middle;\n",
              "    }\n",
              "\n",
              "    .dataframe tbody tr th {\n",
              "        vertical-align: top;\n",
              "    }\n",
              "\n",
              "    .dataframe thead th {\n",
              "        text-align: right;\n",
              "    }\n",
              "</style>\n",
              "<table border=\"1\" class=\"dataframe\">\n",
              "  <thead>\n",
              "    <tr style=\"text-align: right;\">\n",
              "      <th></th>\n",
              "      <th>0</th>\n",
              "      <th>1</th>\n",
              "      <th>2</th>\n",
              "      <th>3</th>\n",
              "      <th>4</th>\n",
              "      <th>5</th>\n",
              "      <th>6</th>\n",
              "      <th>7</th>\n",
              "    </tr>\n",
              "  </thead>\n",
              "  <tbody>\n",
              "    <tr>\n",
              "      <th>0</th>\n",
              "      <td>0.0</td>\n",
              "      <td>0.0</td>\n",
              "      <td>0.0</td>\n",
              "      <td>0.0</td>\n",
              "      <td>150.0</td>\n",
              "      <td>50.11</td>\n",
              "      <td>0.14</td>\n",
              "      <td>200.14</td>\n",
              "    </tr>\n",
              "  </tbody>\n",
              "</table>\n",
              "</div>\n",
              "      <button class=\"colab-df-convert\" onclick=\"convertToInteractive('df-21ccf83e-3561-407d-8cff-2e888f7838d8')\"\n",
              "              title=\"Convert this dataframe to an interactive table.\"\n",
              "              style=\"display:none;\">\n",
              "        \n",
              "  <svg xmlns=\"http://www.w3.org/2000/svg\" height=\"24px\"viewBox=\"0 0 24 24\"\n",
              "       width=\"24px\">\n",
              "    <path d=\"M0 0h24v24H0V0z\" fill=\"none\"/>\n",
              "    <path d=\"M18.56 5.44l.94 2.06.94-2.06 2.06-.94-2.06-.94-.94-2.06-.94 2.06-2.06.94zm-11 1L8.5 8.5l.94-2.06 2.06-.94-2.06-.94L8.5 2.5l-.94 2.06-2.06.94zm10 10l.94 2.06.94-2.06 2.06-.94-2.06-.94-.94-2.06-.94 2.06-2.06.94z\"/><path d=\"M17.41 7.96l-1.37-1.37c-.4-.4-.92-.59-1.43-.59-.52 0-1.04.2-1.43.59L10.3 9.45l-7.72 7.72c-.78.78-.78 2.05 0 2.83L4 21.41c.39.39.9.59 1.41.59.51 0 1.02-.2 1.41-.59l7.78-7.78 2.81-2.81c.8-.78.8-2.07 0-2.86zM5.41 20L4 18.59l7.72-7.72 1.47 1.35L5.41 20z\"/>\n",
              "  </svg>\n",
              "      </button>\n",
              "      \n",
              "  <style>\n",
              "    .colab-df-container {\n",
              "      display:flex;\n",
              "      flex-wrap:wrap;\n",
              "      gap: 12px;\n",
              "    }\n",
              "\n",
              "    .colab-df-convert {\n",
              "      background-color: #E8F0FE;\n",
              "      border: none;\n",
              "      border-radius: 50%;\n",
              "      cursor: pointer;\n",
              "      display: none;\n",
              "      fill: #1967D2;\n",
              "      height: 32px;\n",
              "      padding: 0 0 0 0;\n",
              "      width: 32px;\n",
              "    }\n",
              "\n",
              "    .colab-df-convert:hover {\n",
              "      background-color: #E2EBFA;\n",
              "      box-shadow: 0px 1px 2px rgba(60, 64, 67, 0.3), 0px 1px 3px 1px rgba(60, 64, 67, 0.15);\n",
              "      fill: #174EA6;\n",
              "    }\n",
              "\n",
              "    [theme=dark] .colab-df-convert {\n",
              "      background-color: #3B4455;\n",
              "      fill: #D2E3FC;\n",
              "    }\n",
              "\n",
              "    [theme=dark] .colab-df-convert:hover {\n",
              "      background-color: #434B5C;\n",
              "      box-shadow: 0px 1px 3px 1px rgba(0, 0, 0, 0.15);\n",
              "      filter: drop-shadow(0px 1px 2px rgba(0, 0, 0, 0.3));\n",
              "      fill: #FFFFFF;\n",
              "    }\n",
              "  </style>\n",
              "\n",
              "      <script>\n",
              "        const buttonEl =\n",
              "          document.querySelector('#df-21ccf83e-3561-407d-8cff-2e888f7838d8 button.colab-df-convert');\n",
              "        buttonEl.style.display =\n",
              "          google.colab.kernel.accessAllowed ? 'block' : 'none';\n",
              "\n",
              "        async function convertToInteractive(key) {\n",
              "          const element = document.querySelector('#df-21ccf83e-3561-407d-8cff-2e888f7838d8');\n",
              "          const dataTable =\n",
              "            await google.colab.kernel.invokeFunction('convertToInteractive',\n",
              "                                                     [key], {});\n",
              "          if (!dataTable) return;\n",
              "\n",
              "          const docLinkHtml = 'Like what you see? Visit the ' +\n",
              "            '<a target=\"_blank\" href=https://colab.research.google.com/notebooks/data_table.ipynb>data table notebook</a>'\n",
              "            + ' to learn more about interactive tables.';\n",
              "          element.innerHTML = '';\n",
              "          dataTable['output_type'] = 'display_data';\n",
              "          await google.colab.output.renderOutput(dataTable, element);\n",
              "          const docLink = document.createElement('div');\n",
              "          docLink.innerHTML = docLinkHtml;\n",
              "          element.appendChild(docLink);\n",
              "        }\n",
              "      </script>\n",
              "    </div>\n",
              "  </div>\n",
              "  "
            ]
          },
          "metadata": {},
          "execution_count": 3
        }
      ]
    },
    {
      "cell_type": "code",
      "source": [
        "#Valor Máximo (Objetivo)\n",
        "-R4.fun"
      ],
      "metadata": {
        "colab": {
          "base_uri": "https://localhost:8080/"
        },
        "id": "9GPtgLiwcKZn",
        "outputId": "ba9c3e7c-4519-4474-8712-fa4d91ed50df"
      },
      "execution_count": null,
      "outputs": [
        {
          "output_type": "execute_result",
          "data": {
            "text/plain": [
              "200.14021366142958"
            ]
          },
          "metadata": {},
          "execution_count": 17
        }
      ]
    },
    {
      "cell_type": "markdown",
      "source": [
        "Teniendo en cuenta un movimiento de 7 semanas analizando tanto ingresos como egresos podemos observar que el saldo optimo que se debe tener en la cuenta es de 200.1402"
      ],
      "metadata": {
        "id": "FPiKGnUHKix3"
      }
    },
    {
      "cell_type": "markdown",
      "source": [
        "5) La empresa XYZ tiene que decidir como distribuye su presupuesto $10.000 millones y la mano de obra (horas de trabajo) en tres departamentos: ventas, marketing y producción buscando maximizar sus ganancias. Para ello, se sabe que cada departamento le proporciona a la empresa las siguientes ganancias: ventas: 5 dólares, marketing: 8 dólares, y producción: 10 dólares. Esta asignación debe cumplir las siguientes restricciones:\n",
        "\n",
        "i. El total de horas de trabajo disponibles es de 1.000.\n",
        "\n",
        "ii. El departamento de ventas debe recibir al menos el 20% del presupuesto total.\n",
        "\n",
        "iii. El departamento de marketing debe recibir al menos el 30% del total de horas de trabajo disponibles.\n",
        "\n",
        "iv. El departamento de producción debe recibir al menos el 25% del total de horas de trabajo disponibles.\n",
        "\n",
        "Formule un problema de LP utilizando Scipy que le permita maximizar"
      ],
      "metadata": {
        "id": "J_QXPCqa4R7C"
      }
    },
    {
      "cell_type": "code",
      "source": [
        "# Función objetivo\n",
        "c5 = np.array([0, 0, 0, 5, 8, 10])\n",
        "# Restricciones\n",
        "A5 = np.array([[0, 0, 0, 1, 0, 0],\n",
        "                [0, 1, 0, 0, 0, 0],\n",
        "                [0, 0, 1, 0, 0, 0],\n",
        "                [0, 0, 0, 0, 1, 0],\n",
        "                [0, 0, 0, 0, 0, 1]])\n",
        "b5 = np.array([2000, 300, 250, 2000, 2000])\n",
        "A_5_ = np.array([[1, 1, 1, 0, 0, 0],\n",
        "                  [0, 0, 0, 1, 1, 1]])\n",
        "b_5_= np.array([1000, 10000])\n",
        "# RT\n",
        "R5 = linprog(-c5, A_ub = -A5, b_ub = -b5, A_eq = A_5_, b_eq = b_5_, method = 'simplex')\n",
        "pd.DataFrame(R5.x).round(4).T\n"
      ],
      "metadata": {
        "colab": {
          "base_uri": "https://localhost:8080/",
          "height": 136
        },
        "id": "WqMBLn4a5CFN",
        "outputId": "8fefa38a-fdc0-41f9-fc64-3507f5a0ac01"
      },
      "execution_count": null,
      "outputs": [
        {
          "output_type": "stream",
          "name": "stderr",
          "text": [
            "<ipython-input-18-fc0d4fd4b667>:14: DeprecationWarning: `method='simplex'` is deprecated and will be removed in SciPy 1.11.0. Please use one of the HiGHS solvers (e.g. `method='highs'`) in new code.\n",
            "  R5 = linprog(-c5, A_ub = -A5, b_ub = -b5, A_eq = A_5_, b_eq = b_5_, method = 'simplex')\n"
          ]
        },
        {
          "output_type": "execute_result",
          "data": {
            "text/plain": [
              "       0      1      2       3       4       5\n",
              "0  450.0  300.0  250.0  2000.0  2000.0  6000.0"
            ],
            "text/html": [
              "\n",
              "  <div id=\"df-13648644-a33f-4447-b189-d286e2115e60\">\n",
              "    <div class=\"colab-df-container\">\n",
              "      <div>\n",
              "<style scoped>\n",
              "    .dataframe tbody tr th:only-of-type {\n",
              "        vertical-align: middle;\n",
              "    }\n",
              "\n",
              "    .dataframe tbody tr th {\n",
              "        vertical-align: top;\n",
              "    }\n",
              "\n",
              "    .dataframe thead th {\n",
              "        text-align: right;\n",
              "    }\n",
              "</style>\n",
              "<table border=\"1\" class=\"dataframe\">\n",
              "  <thead>\n",
              "    <tr style=\"text-align: right;\">\n",
              "      <th></th>\n",
              "      <th>0</th>\n",
              "      <th>1</th>\n",
              "      <th>2</th>\n",
              "      <th>3</th>\n",
              "      <th>4</th>\n",
              "      <th>5</th>\n",
              "    </tr>\n",
              "  </thead>\n",
              "  <tbody>\n",
              "    <tr>\n",
              "      <th>0</th>\n",
              "      <td>450.0</td>\n",
              "      <td>300.0</td>\n",
              "      <td>250.0</td>\n",
              "      <td>2000.0</td>\n",
              "      <td>2000.0</td>\n",
              "      <td>6000.0</td>\n",
              "    </tr>\n",
              "  </tbody>\n",
              "</table>\n",
              "</div>\n",
              "      <button class=\"colab-df-convert\" onclick=\"convertToInteractive('df-13648644-a33f-4447-b189-d286e2115e60')\"\n",
              "              title=\"Convert this dataframe to an interactive table.\"\n",
              "              style=\"display:none;\">\n",
              "        \n",
              "  <svg xmlns=\"http://www.w3.org/2000/svg\" height=\"24px\"viewBox=\"0 0 24 24\"\n",
              "       width=\"24px\">\n",
              "    <path d=\"M0 0h24v24H0V0z\" fill=\"none\"/>\n",
              "    <path d=\"M18.56 5.44l.94 2.06.94-2.06 2.06-.94-2.06-.94-.94-2.06-.94 2.06-2.06.94zm-11 1L8.5 8.5l.94-2.06 2.06-.94-2.06-.94L8.5 2.5l-.94 2.06-2.06.94zm10 10l.94 2.06.94-2.06 2.06-.94-2.06-.94-.94-2.06-.94 2.06-2.06.94z\"/><path d=\"M17.41 7.96l-1.37-1.37c-.4-.4-.92-.59-1.43-.59-.52 0-1.04.2-1.43.59L10.3 9.45l-7.72 7.72c-.78.78-.78 2.05 0 2.83L4 21.41c.39.39.9.59 1.41.59.51 0 1.02-.2 1.41-.59l7.78-7.78 2.81-2.81c.8-.78.8-2.07 0-2.86zM5.41 20L4 18.59l7.72-7.72 1.47 1.35L5.41 20z\"/>\n",
              "  </svg>\n",
              "      </button>\n",
              "      \n",
              "  <style>\n",
              "    .colab-df-container {\n",
              "      display:flex;\n",
              "      flex-wrap:wrap;\n",
              "      gap: 12px;\n",
              "    }\n",
              "\n",
              "    .colab-df-convert {\n",
              "      background-color: #E8F0FE;\n",
              "      border: none;\n",
              "      border-radius: 50%;\n",
              "      cursor: pointer;\n",
              "      display: none;\n",
              "      fill: #1967D2;\n",
              "      height: 32px;\n",
              "      padding: 0 0 0 0;\n",
              "      width: 32px;\n",
              "    }\n",
              "\n",
              "    .colab-df-convert:hover {\n",
              "      background-color: #E2EBFA;\n",
              "      box-shadow: 0px 1px 2px rgba(60, 64, 67, 0.3), 0px 1px 3px 1px rgba(60, 64, 67, 0.15);\n",
              "      fill: #174EA6;\n",
              "    }\n",
              "\n",
              "    [theme=dark] .colab-df-convert {\n",
              "      background-color: #3B4455;\n",
              "      fill: #D2E3FC;\n",
              "    }\n",
              "\n",
              "    [theme=dark] .colab-df-convert:hover {\n",
              "      background-color: #434B5C;\n",
              "      box-shadow: 0px 1px 3px 1px rgba(0, 0, 0, 0.15);\n",
              "      filter: drop-shadow(0px 1px 2px rgba(0, 0, 0, 0.3));\n",
              "      fill: #FFFFFF;\n",
              "    }\n",
              "  </style>\n",
              "\n",
              "      <script>\n",
              "        const buttonEl =\n",
              "          document.querySelector('#df-13648644-a33f-4447-b189-d286e2115e60 button.colab-df-convert');\n",
              "        buttonEl.style.display =\n",
              "          google.colab.kernel.accessAllowed ? 'block' : 'none';\n",
              "\n",
              "        async function convertToInteractive(key) {\n",
              "          const element = document.querySelector('#df-13648644-a33f-4447-b189-d286e2115e60');\n",
              "          const dataTable =\n",
              "            await google.colab.kernel.invokeFunction('convertToInteractive',\n",
              "                                                     [key], {});\n",
              "          if (!dataTable) return;\n",
              "\n",
              "          const docLinkHtml = 'Like what you see? Visit the ' +\n",
              "            '<a target=\"_blank\" href=https://colab.research.google.com/notebooks/data_table.ipynb>data table notebook</a>'\n",
              "            + ' to learn more about interactive tables.';\n",
              "          element.innerHTML = '';\n",
              "          dataTable['output_type'] = 'display_data';\n",
              "          await google.colab.output.renderOutput(dataTable, element);\n",
              "          const docLink = document.createElement('div');\n",
              "          docLink.innerHTML = docLinkHtml;\n",
              "          element.appendChild(docLink);\n",
              "        }\n",
              "      </script>\n",
              "    </div>\n",
              "  </div>\n",
              "  "
            ]
          },
          "metadata": {},
          "execution_count": 18
        }
      ]
    },
    {
      "cell_type": "code",
      "source": [
        "-R5.fun"
      ],
      "metadata": {
        "colab": {
          "base_uri": "https://localhost:8080/"
        },
        "id": "JEuZnA_k5qtn",
        "outputId": "1cda8bef-1a77-4605-fd7b-0897068423a0"
      },
      "execution_count": null,
      "outputs": [
        {
          "output_type": "execute_result",
          "data": {
            "text/plain": [
              "86000.0"
            ]
          },
          "metadata": {},
          "execution_count": 6
        }
      ]
    },
    {
      "cell_type": "markdown",
      "source": [
        "Teniendo en cuenta los anteriores datos podemos deducir que las mejor forma de distribuir el presupuesto es la siguiente manera: 2000 para ventas, 2000 para marketing y 6000 para produccion, teniendo una ganancia total de 86000"
      ],
      "metadata": {
        "id": "FUFaNmQxLSyA"
      }
    },
    {
      "cell_type": "markdown",
      "source": [
        "6) Considere una empresa con tres puntos potenciales para ubicar sus instalaciones (J =\n",
        "{1,2,3}) y cinco puntos de demanda que debe satisfacer (I = {1,2,3,4,5}). La apertura del\n",
        "punto j ∈ J tiene un costo fijo de funcionamiento fj, independientemente del volumen de ventas que maneje. Este volumen está limitado a una determinada cantidad máxima que puede manejarse anualmente (Mj). Además, hay un costo de transporte cij para ir desde el punto j para abastecer la demanda en el punto i. Las siguientes tablas muestran los datos de demanda en cada punto:\n",
        "\n",
        "![imagen especial](https://drive.google.com/uc?id=1WVmYwfKXEpTb6ArphVDY7SrIl5-xwqpw)\n",
        "\n",
        "Y los costos de transporte, de funcionamiento y cantidad máxima que puede mantener en cada\n",
        "\n",
        "![imagen especial](https://drive.google.com/uc?id=1aGidOx0gVLI_5QadccvTbgurjDX4Tox7)\n",
        "\n",
        "Las columnas 1-5 muestran el costo de transporte desde cada punto instalado (planta) a\n",
        "cada demanda que debe satisfacer. Las columnas fj y Mj muestran los costos fijos y la\n",
        "capacidad máxima en cada ubicación. Encuentre la ubicación óptima para satisfacer las\n",
        "demandas de tal forma que se minimicen los costos.\n",
        "Formule un problema de optimización utilizando Scipy que le permita encontrar la\n",
        "estrategia optima de la empresa para reducir sus costos de funcionamiento y transporte."
      ],
      "metadata": {
        "id": "5ShDcVLia6L3"
      }
    },
    {
      "cell_type": "code",
      "source": [
        "# Función objetivo\n",
        "\n",
        "c6 = np.array([[4, 5, 6, 8, 10],\n",
        "               [6, 4, 3, 5, 8],\n",
        "               [9, 7, 4, 3, 4]])\n",
        "\n",
        "# Restricciones\n",
        "A6 = np.array([500, 500, 500])\n",
        "d6 = np.array([80, 270, 250, 160, 180])\n",
        "x6 = cp.Variable((3, 5), nonneg=True)\n",
        "matriz = np.array([1000, 1000, 1000])\n",
        "cy6 = cp.Variable(3, boolean = True)\n",
        "O6= cp.Minimize(cp.sum(cp.multiply(c6, x6)))\n",
        "R6 = [cp.sum(x6, axis=1)<= A6 @ cy6, cp.sum(x6, axis=0)==d6, cp.sum(cy6*A6) >= cp.sum(d6)]\n",
        "\n",
        "# Optimización\n",
        "Rta6 = cp.Problem(O6, R6)\n",
        "Rta6.solve()\n",
        "print(round(pd.DataFrame(x6.value),4))\n",
        "cy6.value"
      ],
      "metadata": {
        "colab": {
          "base_uri": "https://localhost:8080/"
        },
        "id": "DTGdOwQqdoGd",
        "outputId": "594073ac-ed78-40e8-afe8-005aec32ece3"
      },
      "execution_count": null,
      "outputs": [
        {
          "output_type": "stream",
          "name": "stdout",
          "text": [
            "      0      1      2      3      4\n",
            "0  80.0   -0.0   -0.0   -0.0   -0.0\n",
            "1  -0.0  270.0  250.0   -0.0   -0.0\n",
            "2  -0.0   -0.0   -0.0  160.0  180.0\n"
          ]
        },
        {
          "output_type": "stream",
          "name": "stderr",
          "text": [
            "/usr/local/lib/python3.9/dist-packages/cvxpy/expressions/expression.py:593: UserWarning: \n",
            "This use of ``*`` has resulted in matrix multiplication.\n",
            "Using ``*`` for matrix multiplication has been deprecated since CVXPY 1.1.\n",
            "    Use ``*`` for matrix-scalar and vector-scalar multiplication.\n",
            "    Use ``@`` for matrix-matrix and matrix-vector multiplication.\n",
            "    Use ``multiply`` for elementwise multiplication.\n",
            "This code path has been hit 1 times so far.\n",
            "\n",
            "  warnings.warn(msg, UserWarning)\n"
          ]
        },
        {
          "output_type": "execute_result",
          "data": {
            "text/plain": [
              "array([1., 1., 0.])"
            ]
          },
          "metadata": {},
          "execution_count": 4
        }
      ]
    },
    {
      "cell_type": "markdown",
      "source": [
        "Analizando y uniendo todos los datos podemos determinar: 1. la palnta numero 1 se deja cerrada. 2. con la planta 2 se va a satisacer el total del punto 1 y 2. 3.  con la planta numero 3 se va a satisacer por completo el punto numero 4 y 5. 4. Entre la planta 2 y 3 se va a satisfacer el punto numero 3, produciendo 150 y 100 respectivamente. "
      ],
      "metadata": {
        "id": "b7w4Ai54Me2x"
      }
    }
  ]
}